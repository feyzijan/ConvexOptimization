{
 "cells": [
  {
   "cell_type": "markdown",
   "metadata": {},
   "source": [
    "# Exercise 1 - Maximum Entropy Distribution problem with prior assumptions"
   ]
  },
  {
   "cell_type": "markdown",
   "metadata": {},
   "source": [
    "Consider a random variable $X$ with values in the finite set $\\{\\alpha_1,\\dots,\\alpha_n\\}$. The distribution of $X$ is characterized by $p$, as $\\textbf{prob}(X=\\alpha_k)=p_k$. Clearly $p$ satisfies $p\\succeq 0$, $\\mathbf{1}^\\top p=1$. \n",
    "\n",
    "The so-called *Maximum Entropy Distribution problem with prior assumptions* can be formulated as\n",
    "\n",
    "$$\n",
    "\\begin{array}{ll}\n",
    "\\displaystyle \\max_{p} & -\\sum_{i=1}^n p_i \\log(p_i)\\\\\n",
    "s.t. & p \\in \\mathcal{P}.\n",
    "\\end{array}\n",
    "$$\n",
    "\n",
    "where $\\mathcal{P}$ represents a convex set expressing prior information."
   ]
  },
  {
   "cell_type": "markdown",
   "metadata": {},
   "source": [
    "We consider a set of equidistant points $\\alpha_i$ in the interval $[-1,1]$:"
   ]
  },
  {
   "cell_type": "code",
   "execution_count": null,
   "metadata": {},
   "outputs": [],
   "source": [
    "import cvxpy as cp\n",
    "import numpy as np\n",
    "import matplotlib.pyplot as plt\n",
    "\n",
    "#Data\n",
    "n = 100\n",
    "alpha = np.linspace(-1,1,n)"
   ]
  },
  {
   "cell_type": "markdown",
   "metadata": {},
   "source": [
    "And we assume the following prior information:\n",
    "\n",
    "$$\n",
    "E(X) \\in [-0.1,0.1]\n",
    "$$\n",
    "$$\n",
    "E(X^2) \\in [0.5,0.6]\n",
    "$$\n",
    "$$\n",
    "E(3X^3-2X) \\in [-0.3,-0.2]\n",
    "$$\n",
    "$$\n",
    "\\textbf{prob}(X<0) \\in [0.3,0.4]\n",
    "$$"
   ]
  },
  {
   "cell_type": "markdown",
   "metadata": {},
   "source": [
    "Recall that $E(f(X)) = \\sum_{i} f(\\alpha_i) \\cdot p_i$ and that $\\textbf{prob}(X< 0)$ is given by the Python command `(alpha<0).astype(int)*p`, where `p` is the cp variable."
   ]
  },
  {
   "cell_type": "markdown",
   "metadata": {},
   "source": [
    "1.   Solve the Maximum Entropy Distribution problem with prior information (Hint: it is advised that you use the atomic function [entr](https://www.cvxpy.org/api_reference/cvxpy.atoms.elementwise.html?highlight=entr#cvxpy.atoms.elementwise.entr.entr)). What is the optimal value?\n",
    "2.   Plot $\\textbf{prob}(X = \\alpha_i)$ vs $\\alpha_i$."
   ]
  },
  {
   "cell_type": "markdown",
   "metadata": {},
   "source": [
    "## Solution 1"
   ]
  },
  {
   "cell_type": "code",
   "execution_count": null,
   "metadata": {},
   "outputs": [
    {
     "name": "stdout",
     "output_type": "stream",
     "text": [
      "status: optimal\n",
      "Optimal value 4.386294336261325\n"
     ]
    }
   ],
   "source": [
    "P = cp.Variable(n)\n",
    "\n",
    "objective = cp.Maximize(cp.sum(cp.entr(P)))\n",
    "\n",
    "constraints = [\n",
    "    P >=0,\n",
    "    cp.sum(P) == 1,\n",
    "    cp.sum((alpha @ P)) >= -0.1,\n",
    "    cp.sum((alpha @ P)) <= 0.1,\n",
    "\n",
    "    cp.sum(((alpha**2) @ P)) >= 0.5,\n",
    "    cp.sum(((alpha**2) @ P)) <= 0.6,\n",
    "\n",
    "    cp.sum(((3*(alpha**3)) @ P - 2*alpha@P)) >= -0.3,\n",
    "    cp.sum(((3*(alpha**3)) @ P - 2*alpha@P)) <= -0.2,\n",
    "\n",
    "    cp.sum(((alpha<0).astype(int)@P)) >= 0.3,\n",
    "    cp.sum(((alpha<0).astype(int)@P)) <= 0.4,\n",
    "]\n",
    "\n",
    "prob = cp.Problem(objective,constraints)\n",
    "prob.solve(verbose=False)\n",
    "print(\"status:\", prob.status)\n",
    "print(\"Optimal value\", prob.value)"
   ]
  },
  {
   "cell_type": "code",
   "execution_count": null,
   "metadata": {},
   "outputs": [
    {
     "data": {
      "text/plain": [
       "[<matplotlib.lines.Line2D at 0x7fdf49c19460>]"
      ]
     },
     "metadata": {},
     "output_type": "display_data"
    },
    {
     "data": {
      "image/png": "[encoded data removed]",
      "text/plain": [
       "<Figure size 432x288 with 1 Axes>"
      ]
     },
     "metadata": {},
     "output_type": "display_data"
    }
   ],
   "source": [
    "import matplotlib.pyplot as plt\n",
    "\n",
    "plt.plot(alpha,P.value)"
   ]
  },
  {
   "cell_type": "markdown",
   "metadata": {},
   "source": [
    "# Exercise 2 - Censored Data\n"
   ]
  },
  {
   "cell_type": "markdown",
   "metadata": {},
   "source": [
    "In statistics, [censoring](https://en.wikipedia.org/wiki/Censoring_(statistics)) is a condition in which the value of a measurement or observation is only partially known. \n",
    "\n",
    "For instance, suppose a study is conducted to measure the impact of a drug on mortality rate. In such a study, it may be known that an individual's age at death is at least 75 years (but may be more). Such a situation could occur if the individual withdrew from the study at age 75, or if the individual is currently alive at the age of 75.\n",
    "\n",
    "Censoring also occurs when a value occurs outside the range of a measuring instrument. For example, a bathroom scale might only measure up to 140 kg. If a 160-kg individual is weighed using the scale, the observer would only know that the individual's weight is at least 140 kg. \n",
    "\n"
   ]
  },
  {
   "cell_type": "markdown",
   "metadata": {},
   "source": [
    "We wish to fit a set of data points,\n",
    "\n",
    "$$\n",
    "(x^{(1)},y^{(1)}), \\dots , (x^{(K)},y^{(K)}),\n",
    "$$\n",
    "\n",
    "with $x^{(k)}\\in \\mathbb{R}^n$ and $y^{(k)} \\in \\mathbb{R}$, with a linear model of the form $y \\approx c^\\top x$. The vector $c\\in\\mathbb{R}^n$ is the model parameter, which we want to choose. We will use a least-squares criterion, i.e., choose $c$ to minimize\n",
    "\n",
    "$$\n",
    "J = \\sum_{k=1}^K \\left( y^{(k)} - c^\\top x^{(k)} \\right)^2\n",
    "$$\n",
    "\n",
    "All the values of $x^{(k)}$ are known. The data $y^{(1)}$, ..., $y^{(M)}$ are known, while the data $y^{(M+1)}$, ..., $y^{(K)}$ are all censored, i.e. unknown but larger than $D$, a known number."
   ]
  },
  {
   "cell_type": "markdown",
   "metadata": {},
   "source": [
    "Solve three problems:\n",
    "\n",
    "\n",
    "\n",
    "1.   Solve the naive Least-Square problem (i.e. minimize $J$) considering the entire data from $1$ to $K$ as if it were correct (i.e. assume that the censored data is the actual data)\n",
    "2.   Solve the Least-Squares problem ignoring the censored data, i.e. use only the data from $1$ to $M$\n",
    "3.   Use constraints to take into account the censored data\n",
    "\n",
    "For each of the problems compute the residual\n",
    "\n",
    "$$\n",
    "\\frac{||c_{true} - \\hat c||_2}{||c_{true}||_2}\n",
    "$$\n",
    "\n",
    "where $c_{true}$ is the actual value of $c$ and $\\hat c$ is the estimated value in each of the three problems."
   ]
  },
  {
   "cell_type": "markdown",
   "metadata": {},
   "source": [
    "The data is generated by this snippet of code"
   ]
  },
  {
   "cell_type": "code",
   "execution_count": null,
   "metadata": {},
   "outputs": [],
   "source": [
    "# This code generates the data for the problem\n",
    "# The variables that you can use are X_ordered, y_censored and D.\n",
    "# You can use c_true to compute the residual\n",
    "# DO NOT USE X, y and y_ordered, these are internal variables\n",
    "# used to generate the data for the problem\n",
    "\n",
    "import cvxpy as cp\n",
    "import numpy as np\n",
    "n = 30 # number of variables\n",
    "M = 50 # number of uncensored observations\n",
    "K = 200 # total number of observations\n",
    "\n",
    "# Random generation of the data\n",
    "np.random.seed(n*M*K)\n",
    "X = np.random.randn(K*n).reshape(K, n) # DO NOT USE\n",
    "c_true = np.random.rand(n)\n",
    "y = X.dot(c_true) + .3*np.sqrt(n)*np.random.randn(K) # DO NOT USE\n",
    "\n",
    "# Ordering them based on y\n",
    "order = np.argsort(y) # DO NOT USE\n",
    "y_ordered = y[order] # DO NOT USE\n",
    "X_ordered = X[order,:]\n",
    "\n",
    "# finding boundary\n",
    "D = (y_ordered[M-1] + y_ordered[M])/2.\n",
    "\n",
    "# applying censoring\n",
    "y_censored = np.concatenate((y_ordered[:M], np.ones(K-M)*D))\n",
    "\n",
    "# The variables that you can use are X_ordered, y_censored and D.\n",
    "# You can use c_true to compute the residual\n",
    "# DO NOT USE X, y and y_ordered, these are internal variables\n",
    "# used to generate the data for the problem"
   ]
  },
  {
   "cell_type": "markdown",
   "metadata": {},
   "source": [
    "## Solution 2"
   ]
  },
  {
   "cell_type": "code",
   "execution_count": null,
   "metadata": {},
   "outputs": [
    {
     "name": "stdout",
     "output_type": "stream",
     "text": [
      "status: optimal\n",
      "Optimal value 41.21798477210766\n",
      "Optimal var c : [ 0.21675412 -0.01055401  0.6084366   0.38871172 -0.02505805 -0.32893498\n",
      " -0.04523541 -0.13816865  0.48735647 -0.00860644  0.22483505  0.1980222\n",
      "  0.23656382  0.22497391  0.06820719  0.10749049 -0.1314469   0.00584045\n",
      "  0.04698078 -0.08254453  0.30340207  0.09028037 -0.20223001  0.18510921\n",
      "  0.49060366  0.18815787  0.05200329  0.3670569  -0.034346    0.1419044 ] (30,)\n",
      "Residual is 0.8381563144021161\n"
     ]
    }
   ],
   "source": [
    "# can use c_true, X_ordered\n",
    "\n",
    "# 1- Ignore existence of censoring\n",
    "c = cp.Variable(n)\n",
    "\n",
    "#objective = cp.Minimize(cp.sum_squares(y- c.T @ X_ordered))\n",
    "\n",
    "objective = cp.Minimize(cp.norm2(y_censored -  X_ordered@ c))\n",
    "\n",
    "prob = cp.Problem(objective)\n",
    "\n",
    "prob.solve()\n",
    "print(\"status:\", prob.status)\n",
    "print(\"Optimal value\", prob.value)\n",
    "print(\"Optimal var c :\", c.value, c.shape)\n",
    "\n",
    "#residual = np.sum(np.square(c_true - c.value))/np.sum(np.square(c_true))\n",
    "\n",
    "residual = np.linalg.norm(c_true-c.value)/np.linalg.norm(c_true)\n",
    "c_value_1 = c.value\n",
    "print(\"Residual is\", residual)"
   ]
  },
  {
   "cell_type": "code",
   "execution_count": null,
   "metadata": {},
   "outputs": [
    {
     "name": "stdout",
     "output_type": "stream",
     "text": [
      "status: optimal\n",
      "Optimal value 5.804982935751005\n",
      "Optimal var c : [ 0.72956219  0.59273637  1.49803854  1.26515038  0.90959927  0.27911708\n",
      "  0.33039085  0.58718121  0.10692683  0.69727413  1.21295263  0.92209524\n",
      "  0.62076821  0.74019248  0.01724733  0.758353   -0.3686797   1.45235794\n",
      "  0.00563295  1.35378805  0.78189158  0.34821785 -0.18566106  0.4954472\n",
      "  0.91181214  0.79014362  1.25547097  0.51207478  1.21229208  0.40918099] (30,)\n",
      "Residual is 0.6752336824029347\n"
     ]
    }
   ],
   "source": [
    "#2 Use data up to index M\n",
    "c = cp.Variable(n)\n",
    "objective = cp.Minimize(cp.norm2(y_censored[:M] -  X_ordered[:M]@ c))\n",
    "\n",
    "prob = cp.Problem(objective)\n",
    "\n",
    "prob.solve()\n",
    "print(\"status:\", prob.status)\n",
    "print(\"Optimal value\", prob.value)\n",
    "print(\"Optimal var c :\", c.value, c.shape)\n",
    "\n",
    "#residual = np.sum(np.square(c_true - c.value))/np.sum(np.square(c_true))\n",
    "\n",
    "residual = np.linalg.norm(c_true-c.value)/np.linalg.norm(c_true)\n",
    "\n",
    "c_value_2 = c.value\n",
    "\n",
    "print(\"Residual is\", residual)"
   ]
  }
 ],
 "metadata": {
  "language_info": {
   "name": "python"
  },
  "orig_nbformat": 4
 },
 "nbformat": 4,
 "nbformat_minor": 2
}
