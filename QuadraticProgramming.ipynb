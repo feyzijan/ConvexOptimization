{
 "cells": [
  {
   "cell_type": "markdown",
   "metadata": {},
   "source": [
    "## Exercise 1"
   ]
  },
  {
   "cell_type": "markdown",
   "metadata": {},
   "source": [
    "Consider the quadratic programme\n",
    "\n",
    "$$\n",
    "\\begin{array}{ll}\n",
    "\\min & x_1^2 + 2 x_2^2 - x_1 x_2 - x_1\\\\\n",
    "s.t. & x_1 + 2x_2 \\le u_1,\\\\\n",
    "& x_1 - 4x_2 \\le u_2,\\\\\n",
    "& x_1 + x_2 \\ge -5,\n",
    "\\end{array} \\tag{1}\n",
    "$$\n",
    "\n",
    "with variables $x_1$, $x_2$ and parameters $u_1$ and $u_2$.\n",
    "\n",
    "1.   Solve this QP, for parameter values $u_1 = -2$ and $u_2 = -3$. Print the optimal primal variables $x_1^*$ and $x_2^*$, the optimal dual variables $\\lambda_1^*$, $\\lambda_2^*$ and $\\lambda_3^*$, and the optimal objective value $p^*$. \n",
    "2.   Verify that the KKT conditions hold for the optimal primal and dual variables you found (within reasonable numerical accuracy).\n",
    "3.   Consider the perturbed problem with \n",
    "$$\n",
    "u_1 = -2 + \\delta_1,\\qquad u_2=-3+\\delta_2,\n",
    "$$\n",
    "where $\\delta_1$ and $\\delta_2$ take both values in the set $\\{-0.1,0,0.1\\}$ (there are a total of nine such combinations, including the original problem). For each combination of $\\delta_1$ and $\\delta_2$, make a prediction $p^*_{pred}$ of the optimal value of the perturbed QP, and compare it to $p^*_{exact}$ which is the exact optimal value of the perturbed QP (obtained by solving the perturbed QP). Complete the table:\n",
    "$$\n",
    "\\begin{array}{|c|c|c|c|c|c|}\\hline\n",
    "& \\delta_1 & \\delta_2 & p^*_{pred} & p^*_{exact} & p^*_{exact}-p^*_{pred}\\\\\\hline\n",
    "1 & 0 & 0 & & & \\\\\\hline\n",
    "2 & 0 & -0.1 & & & \\\\\\hline\n",
    "3 & 0 & 0.1 & & & \\\\\\hline\n",
    "4 & -0.1 & 0 & & & \\\\\\hline\n",
    "5 & -0.1 & -0.1 & & & \\\\\\hline\n",
    "6 & -0.1 & 0.1 & & & \\\\\\hline\n",
    "7 & 0.1 & 0 & & & \\\\\\hline\n",
    "8 & 0.1 & -0.1 & & & \\\\\\hline\n",
    "9 & 0.1 & 0.1 & & & \\\\\\hline\n",
    "\\end{array}\n",
    "$$\n",
    "Check that the inequality $p^*_{pred} \\le p^*_{exact}$. For which perturbations (other than number $1$) is $p^*_{exact}-p^*_{pred}$ the smallest? *Tip: round to 5 decimals.*\n",
    "\n",
    "\n",
    "\n"
   ]
  },
  {
   "cell_type": "code",
   "execution_count": null,
   "metadata": {},
   "outputs": [],
   "source": [
    "import cvxpy as cp\n",
    "import numpy as np"
   ]
  },
  {
   "cell_type": "markdown",
   "metadata": {},
   "source": [
    "CVXPY doesnt recognise x1*x2 as a convex function, so you need to write the program in quadratic form"
   ]
  },
  {
   "cell_type": "code",
   "execution_count": null,
   "metadata": {},
   "outputs": [
    {
     "name": "stderr",
     "output_type": "stream",
     "text": [
      "/usr/local/lib/python3.8/dist-packages/cvxpy/expressions/expression.py:593: UserWarning: \n",
      "This use of ``*`` has resulted in matrix multiplication.\n",
      "Using ``*`` for matrix multiplication has been deprecated since CVXPY 1.1.\n",
      "    Use ``*`` for matrix-scalar and vector-scalar multiplication.\n",
      "    Use ``@`` for matrix-matrix and matrix-vector multiplication.\n",
      "    Use ``multiply`` for elementwise multiplication.\n",
      "This code path has been hit 1 times so far.\n",
      "\n",
      "  warnings.warn(msg, UserWarning)\n"
     ]
    },
    {
     "ename": "DCPError",
     "evalue": "ignored",
     "output_type": "error",
     "traceback": [
      "\u001b[0;31m---------------------------------------------------------------------------\u001b[0m\n",
      "\u001b[0;31mDCPError\u001b[0m                                  Traceback (most recent call last)\n",
      "\u001b[0;32m<ipython-input-7-ee13e35828ba>\u001b[0m in \u001b[0;36m<module>\u001b[0;34m\u001b[0m\n",
      "\u001b[1;32m     14\u001b[0m \u001b[0mprob\u001b[0m \u001b[0;34m=\u001b[0m \u001b[0mcp\u001b[0m\u001b[0;34m.\u001b[0m\u001b[0mProblem\u001b[0m\u001b[0;34m(\u001b[0m\u001b[0mobj\u001b[0m\u001b[0;34m,\u001b[0m \u001b[0mconstraints\u001b[0m\u001b[0;34m)\u001b[0m\u001b[0;34m\u001b[0m\u001b[0;34m\u001b[0m\u001b[0m\n",
      "\u001b[1;32m     15\u001b[0m \u001b[0;34m\u001b[0m\u001b[0m\n",
      "\u001b[0;32m---> 16\u001b[0;31m \u001b[0mprob\u001b[0m\u001b[0;34m.\u001b[0m\u001b[0msolve\u001b[0m\u001b[0;34m(\u001b[0m\u001b[0;34m)\u001b[0m\u001b[0;34m\u001b[0m\u001b[0;34m\u001b[0m\u001b[0m\n",
      "\u001b[0m\n",
      "\u001b[0;32m/usr/local/lib/python3.8/dist-packages/cvxpy/problems/problem.py\u001b[0m in \u001b[0;36msolve\u001b[0;34m(self, *args, **kwargs)\u001b[0m\n",
      "\u001b[1;32m    479\u001b[0m         \u001b[0;32melse\u001b[0m\u001b[0;34m:\u001b[0m\u001b[0;34m\u001b[0m\u001b[0;34m\u001b[0m\u001b[0m\n",
      "\u001b[1;32m    480\u001b[0m             \u001b[0msolve_func\u001b[0m \u001b[0;34m=\u001b[0m \u001b[0mProblem\u001b[0m\u001b[0;34m.\u001b[0m\u001b[0m_solve\u001b[0m\u001b[0;34m\u001b[0m\u001b[0;34m\u001b[0m\u001b[0m\n",
      "\u001b[0;32m--> 481\u001b[0;31m         \u001b[0;32mreturn\u001b[0m \u001b[0msolve_func\u001b[0m\u001b[0;34m(\u001b[0m\u001b[0mself\u001b[0m\u001b[0;34m,\u001b[0m \u001b[0;34m*\u001b[0m\u001b[0margs\u001b[0m\u001b[0;34m,\u001b[0m \u001b[0;34m**\u001b[0m\u001b[0mkwargs\u001b[0m\u001b[0;34m)\u001b[0m\u001b[0;34m\u001b[0m\u001b[0;34m\u001b[0m\u001b[0m\n",
      "\u001b[0m\u001b[1;32m    482\u001b[0m \u001b[0;34m\u001b[0m\u001b[0m\n",
      "\u001b[1;32m    483\u001b[0m     \u001b[0;34m@\u001b[0m\u001b[0mclassmethod\u001b[0m\u001b[0;34m\u001b[0m\u001b[0;34m\u001b[0m\u001b[0m\n",
      "\n",
      "\u001b[0;32m/usr/local/lib/python3.8/dist-packages/cvxpy/problems/problem.py\u001b[0m in \u001b[0;36m_solve\u001b[0;34m(self, solver, warm_start, verbose, gp, qcp, requires_grad, enforce_dpp, ignore_dpp, **kwargs)\u001b[0m\n",
      "\u001b[1;32m   1005\u001b[0m                 \u001b[0;32mreturn\u001b[0m \u001b[0mself\u001b[0m\u001b[0;34m.\u001b[0m\u001b[0mvalue\u001b[0m\u001b[0;34m\u001b[0m\u001b[0;34m\u001b[0m\u001b[0m\n",
      "\u001b[1;32m   1006\u001b[0m \u001b[0;34m\u001b[0m\u001b[0m\n",
      "\u001b[0;32m-> 1007\u001b[0;31m         data, solving_chain, inverse_data = self.get_problem_data(\n",
      "\u001b[0m\u001b[1;32m   1008\u001b[0m             solver, gp, enforce_dpp, ignore_dpp, verbose)\n",
      "\u001b[1;32m   1009\u001b[0m \u001b[0;34m\u001b[0m\u001b[0m\n",
      "\n",
      "\u001b[0;32m/usr/local/lib/python3.8/dist-packages/cvxpy/problems/problem.py\u001b[0m in \u001b[0;36mget_problem_data\u001b[0;34m(self, solver, gp, enforce_dpp, ignore_dpp, verbose)\u001b[0m\n",
      "\u001b[1;32m    605\u001b[0m         \u001b[0;32mif\u001b[0m \u001b[0mkey\u001b[0m \u001b[0;34m!=\u001b[0m \u001b[0mself\u001b[0m\u001b[0;34m.\u001b[0m\u001b[0m_cache\u001b[0m\u001b[0;34m.\u001b[0m\u001b[0mkey\u001b[0m\u001b[0;34m:\u001b[0m\u001b[0;34m\u001b[0m\u001b[0;34m\u001b[0m\u001b[0m\n",
      "\u001b[1;32m    606\u001b[0m             \u001b[0mself\u001b[0m\u001b[0;34m.\u001b[0m\u001b[0m_cache\u001b[0m\u001b[0;34m.\u001b[0m\u001b[0minvalidate\u001b[0m\u001b[0;34m(\u001b[0m\u001b[0;34m)\u001b[0m\u001b[0;34m\u001b[0m\u001b[0;34m\u001b[0m\u001b[0m\n",
      "\u001b[0;32m--> 607\u001b[0;31m             solving_chain = self._construct_chain(\n",
      "\u001b[0m\u001b[1;32m    608\u001b[0m                 \u001b[0msolver\u001b[0m\u001b[0;34m=\u001b[0m\u001b[0msolver\u001b[0m\u001b[0;34m,\u001b[0m \u001b[0mgp\u001b[0m\u001b[0;34m=\u001b[0m\u001b[0mgp\u001b[0m\u001b[0;34m,\u001b[0m\u001b[0;34m\u001b[0m\u001b[0;34m\u001b[0m\u001b[0m\n",
      "\u001b[1;32m    609\u001b[0m                 \u001b[0menforce_dpp\u001b[0m\u001b[0;34m=\u001b[0m\u001b[0menforce_dpp\u001b[0m\u001b[0;34m,\u001b[0m\u001b[0;34m\u001b[0m\u001b[0;34m\u001b[0m\u001b[0m\n",
      "\n",
      "\u001b[0;32m/usr/local/lib/python3.8/dist-packages/cvxpy/problems/problem.py\u001b[0m in \u001b[0;36m_construct_chain\u001b[0;34m(self, solver, gp, enforce_dpp, ignore_dpp)\u001b[0m\n",
      "\u001b[1;32m    843\u001b[0m         \u001b[0mcandidate_solvers\u001b[0m \u001b[0;34m=\u001b[0m \u001b[0mself\u001b[0m\u001b[0;34m.\u001b[0m\u001b[0m_find_candidate_solvers\u001b[0m\u001b[0;34m(\u001b[0m\u001b[0msolver\u001b[0m\u001b[0;34m=\u001b[0m\u001b[0msolver\u001b[0m\u001b[0;34m,\u001b[0m \u001b[0mgp\u001b[0m\u001b[0;34m=\u001b[0m\u001b[0mgp\u001b[0m\u001b[0;34m)\u001b[0m\u001b[0;34m\u001b[0m\u001b[0;34m\u001b[0m\u001b[0m\n",
      "\u001b[1;32m    844\u001b[0m         \u001b[0mself\u001b[0m\u001b[0;34m.\u001b[0m\u001b[0m_sort_candidate_solvers\u001b[0m\u001b[0;34m(\u001b[0m\u001b[0mcandidate_solvers\u001b[0m\u001b[0;34m)\u001b[0m\u001b[0;34m\u001b[0m\u001b[0;34m\u001b[0m\u001b[0m\n",
      "\u001b[0;32m--> 845\u001b[0;31m         return construct_solving_chain(self, candidate_solvers, gp=gp,\n",
      "\u001b[0m\u001b[1;32m    846\u001b[0m                                        \u001b[0menforce_dpp\u001b[0m\u001b[0;34m=\u001b[0m\u001b[0menforce_dpp\u001b[0m\u001b[0;34m,\u001b[0m\u001b[0;34m\u001b[0m\u001b[0;34m\u001b[0m\u001b[0m\n",
      "\u001b[1;32m    847\u001b[0m                                        ignore_dpp=ignore_dpp)\n",
      "\n",
      "\u001b[0;32m/usr/local/lib/python3.8/dist-packages/cvxpy/reductions/solvers/solving_chain.py\u001b[0m in \u001b[0;36mconstruct_solving_chain\u001b[0;34m(problem, candidates, gp, enforce_dpp, ignore_dpp)\u001b[0m\n",
      "\u001b[1;32m    160\u001b[0m     \u001b[0;32mif\u001b[0m \u001b[0mlen\u001b[0m\u001b[0;34m(\u001b[0m\u001b[0mproblem\u001b[0m\u001b[0;34m.\u001b[0m\u001b[0mvariables\u001b[0m\u001b[0;34m(\u001b[0m\u001b[0;34m)\u001b[0m\u001b[0;34m)\u001b[0m \u001b[0;34m==\u001b[0m \u001b[0;36m0\u001b[0m\u001b[0;34m:\u001b[0m\u001b[0;34m\u001b[0m\u001b[0;34m\u001b[0m\u001b[0m\n",
      "\u001b[1;32m    161\u001b[0m         \u001b[0;32mreturn\u001b[0m \u001b[0mSolvingChain\u001b[0m\u001b[0;34m(\u001b[0m\u001b[0mreductions\u001b[0m\u001b[0;34m=\u001b[0m\u001b[0;34m[\u001b[0m\u001b[0mConstantSolver\u001b[0m\u001b[0;34m(\u001b[0m\u001b[0;34m)\u001b[0m\u001b[0;34m]\u001b[0m\u001b[0;34m)\u001b[0m\u001b[0;34m\u001b[0m\u001b[0;34m\u001b[0m\u001b[0m\n",
      "\u001b[0;32m--> 162\u001b[0;31m     \u001b[0mreductions\u001b[0m \u001b[0;34m=\u001b[0m \u001b[0m_reductions_for_problem_class\u001b[0m\u001b[0;34m(\u001b[0m\u001b[0mproblem\u001b[0m\u001b[0;34m,\u001b[0m \u001b[0mcandidates\u001b[0m\u001b[0;34m,\u001b[0m \u001b[0mgp\u001b[0m\u001b[0;34m)\u001b[0m\u001b[0;34m\u001b[0m\u001b[0;34m\u001b[0m\u001b[0m\n",
      "\u001b[0m\u001b[1;32m    163\u001b[0m \u001b[0;34m\u001b[0m\u001b[0m\n",
      "\u001b[1;32m    164\u001b[0m     \u001b[0;31m# Process DPP status of the problem.\u001b[0m\u001b[0;34m\u001b[0m\u001b[0;34m\u001b[0m\u001b[0;34m\u001b[0m\u001b[0m\n",
      "\n",
      "\u001b[0;32m/usr/local/lib/python3.8/dist-packages/cvxpy/reductions/solvers/solving_chain.py\u001b[0m in \u001b[0;36m_reductions_for_problem_class\u001b[0;34m(problem, candidates, gp)\u001b[0m\n",
      "\u001b[1;32m     92\u001b[0m             append += (\"\\nHowever, the problem does follow DQCP rules. \"\n",
      "\u001b[1;32m     93\u001b[0m                        \"Consider calling solve() with `qcp=True`.\")\n",
      "\u001b[0;32m---> 94\u001b[0;31m         raise DCPError(\n",
      "\u001b[0m\u001b[1;32m     95\u001b[0m             \"Problem does not follow DCP rules. Specifically:\\n\" + append)\n",
      "\u001b[1;32m     96\u001b[0m     \u001b[0;32melif\u001b[0m \u001b[0mgp\u001b[0m \u001b[0;32mand\u001b[0m \u001b[0;32mnot\u001b[0m \u001b[0mproblem\u001b[0m\u001b[0;34m.\u001b[0m\u001b[0mis_dgp\u001b[0m\u001b[0;34m(\u001b[0m\u001b[0;34m)\u001b[0m\u001b[0;34m:\u001b[0m\u001b[0;34m\u001b[0m\u001b[0;34m\u001b[0m\u001b[0m\n",
      "\n",
      "\u001b[0;31mDCPError\u001b[0m: Problem does not follow DCP rules. Specifically:\n",
      "The objective is not DCP. Its following subexpressions are not:\n",
      "var125 @ var126"
     ]
    }
   ],
   "source": [
    "#Part 1\n",
    "x = cp.Variable(2)\n",
    "P = [[1, -1/2], [ -1/2, 2]]\n",
    "\n",
    "G = [[1,2], [1,-4], [1,1]]\n",
    "q = [-1,0]\n",
    "h = [-2,-3,5]\n",
    "\n",
    "\n",
    "\n",
    "u1 = -2\n",
    "u2 = -3\n",
    "\n",
    "constraints = [x1 + 2*x2 + u1 <= 0,\n",
    "               x1 - 4*x2 + u2 <=0,\n",
    "               x1 + x2 + 5 >= 0 ]\n",
    "\n",
    "obj = cp.Minimize(x1 + 2*(x2**2) - x1*x2 - x1)\n",
    "\n",
    "prob = cp.Problem(obj, constraints)\n",
    "\n",
    "prob.solve()"
   ]
  },
  {
   "cell_type": "markdown",
   "metadata": {},
   "source": [
    "### Solution Exercise 1"
   ]
  },
  {
   "cell_type": "markdown",
   "metadata": {},
   "source": [
    "We solve the QP and find the primal and dual optimal variables, and the optimal value. The easiest way of solving this problem is by writing the QP in matrix form, i.e. finding matrices $P$, $G$, $q$ and $h$ such that\n",
    "\n",
    "$$\n",
    "\\begin{array}{ll}\n",
    "\\min & \\frac{1}{2}x^\\top P x + q^\\top x \\\\\n",
    "s.t. & G x \\preccurlyeq h \n",
    "\\end{array}\n",
    "$$\n",
    "\n",
    "To simplify the code, in the following we include $\\frac{1}{2}$ within $P$.\n",
    "\n",
    "Note that if we do not write the problem in matrix form we will have problems in the objective function when we try to evaluate $x_1 x_2$. In fact, CVXPY does not recognise this term as an operation following DCP rules (the same holds for $x_1^2$, but this specific issue can be avoided with `cp.square`)."
   ]
  },
  {
   "cell_type": "code",
   "execution_count": null,
   "metadata": {},
   "outputs": [],
   "source": [
    "# Import libraries\n",
    "import cvxpy as cp\n",
    "import numpy as np"
   ]
  },
  {
   "cell_type": "code",
   "execution_count": null,
   "metadata": {},
   "outputs": [],
   "source": [
    "# Declare variables and matrices of the QP\n",
    "x = cp.Variable(2)\n",
    "P = np.array([[1, -1/2], [-1/2, 2]])\n",
    "G = np.array([[1, 2], [1, -4], [-1, -1]])\n",
    "q = np.array([-1, 0])\n",
    "h = np.array([-2, -3, 5])"
   ]
  },
  {
   "cell_type": "code",
   "execution_count": null,
   "metadata": {},
   "outputs": [
    {
     "name": "stdout",
     "output_type": "stream",
     "text": [
      "\n",
      "The optimal value is 8.22\n",
      "The optimal x is [-2.33  0.17]\n",
      "Dual variables [3.39 2.44 0.  ]\n"
     ]
    }
   ],
   "source": [
    "# Define constrains, problem and solve it\n",
    "constraints = [G @ x <= h]\n",
    "prob = cp.Problem(cp.Minimize(cp.quad_form(x, P)+ q.T @ x),constraints)\n",
    "prob.solve()\n",
    "\n",
    "#Find optimal value and dual variables\n",
    "OptVal = prob.value\n",
    "DualVar = constraints[0].dual_value\n",
    "\n",
    "# Print result.\n",
    "print(\"\\nThe optimal value is\", np.round(OptVal,2))\n",
    "print(\"The optimal x is\",np.round(x.value,2))\n",
    "print(\"Dual variables\", np.round(DualVar,2))"
   ]
  },
  {
   "cell_type": "markdown",
   "metadata": {},
   "source": [
    "We now verify that the KKT conditions hold for the optimal primal and dual variables found."
   ]
  },
  {
   "cell_type": "code",
   "execution_count": null,
   "metadata": {},
   "outputs": [
    {
     "name": "stdout",
     "output_type": "stream",
     "text": [
      "KKT conditions:\n",
      "Constraint nonpositivity:  [ True  True  True]\n",
      "Nonnegativity of dual variables:  [ True  True  True]\n",
      "Complementary:  [ True  True  True]\n",
      "Gradient:  [ True  True]\n"
     ]
    }
   ],
   "source": [
    "x1=x.value[0]\n",
    "x2=x.value[1]\n",
    "l1=DualVar[0]\n",
    "l2=DualVar[1]\n",
    "l3=DualVar[2] \n",
    "\n",
    "print('KKT conditions:')\n",
    "print(\"Constraint nonpositivity: \", G @ x.value - h <=0)\n",
    "print(\"Nonnegativity of dual variables: \", DualVar >=0)\n",
    "print(\"Complementary: \", DualVar * (G @ x.value-h) == 0)\n",
    "print(\"Gradient: \", 2*x.value.T@P+q.T+DualVar@G==0)\n",
    "#print(\"Gradient: \", np.array([[2*x1-x2-1],[4*x2 - x1]])+np.array([[l1+l2-l3],[2*l1-4*l2-l3]])==0)"
   ]
  },
  {
   "cell_type": "markdown",
   "metadata": {},
   "source": [
    "We now solve the perturbed problem"
   ]
  },
  {
   "cell_type": "code",
   "execution_count": null,
   "metadata": {},
   "outputs": [
    {
     "name": "stdout",
     "output_type": "stream",
     "text": [
      "Line 1 - Delta1: 0.0 Delta2: 0.0 Prediction: 8.22222 Exact value: 8.22222 Prediction gap: 0.0\n",
      "Line 2 - Delta1: 0.0 Delta2: -0.1 Prediction: 8.46667 Exact value: 8.46889 Prediction gap: 0.00222\n",
      "Line 3 - Delta1: 0.0 Delta2: 0.1 Prediction: 7.97778 Exact value: 7.98 Prediction gap: 0.00222\n",
      "Line 4 - Delta1: -0.1 Delta2: 0.0 Prediction: 8.56111 Exact value: 8.565 Prediction gap: 0.00389\n",
      "Line 5 - Delta1: -0.1 Delta2: -0.1 Prediction: 8.80556 Exact value: 8.81556 Prediction gap: 0.01\n",
      "Line 6 - Delta1: -0.1 Delta2: 0.1 Prediction: 8.31667 Exact value: 8.31889 Prediction gap: 0.00222\n",
      "Line 7 - Delta1: 0.1 Delta2: 0.0 Prediction: 7.88333 Exact value: 7.88722 Prediction gap: 0.00389\n",
      "Line 8 - Delta1: 0.1 Delta2: -0.1 Prediction: 8.12778 Exact value: 8.13 Prediction gap: 0.00222\n",
      "Line 9 - Delta1: 0.1 Delta2: 0.1 Prediction: 7.63889 Exact value: 7.64889 Prediction gap: 0.01\n"
     ]
    }
   ],
   "source": [
    "# Generate the solutions and prediction for each of the 9 perturbed problems.\n",
    "delta = np.array([0,-0.1,0.1])\n",
    "N=3\n",
    "for i in range(N):\n",
    "  for j in range(N):\n",
    "    h = np.array([-2+delta[i], -3+delta[j], 5])\n",
    "    constraints = [G @ x <= h]\n",
    "    prediction = OptVal - DualVar @ np.array([delta[i], delta[j], 0])\n",
    "    prob = cp.Problem(cp.Minimize(cp.quad_form(x, P)+ q.T @ x),constraints)\n",
    "    prob.solve()\n",
    "    print(\"Line\", i*3+j+1 ,\"- Delta1:\",delta[i], \"Delta2:\", delta[j]  , \"Prediction:\", \n",
    "          np.round(prediction,5),  \"Exact value:\",np.round(prob.value,5), \"Prediction gap:\", np.round(prob.value - prediction,5))"
   ]
  },
  {
   "cell_type": "markdown",
   "metadata": {},
   "source": [
    "All prediction gaps are nonnegative, so the inequality $p^*_{pred} \\le p^*_{exact}$ is satisfied. The best predictions are achieved for perturbations number $2$, $3$, $6$ and $8$."
   ]
  },
  {
   "cell_type": "markdown",
   "metadata": {},
   "source": [
    "# Exercise 2"
   ]
  },
  {
   "cell_type": "markdown",
   "metadata": {},
   "source": [
    "This exercise is mostly done with pen and paper."
   ]
  },
  {
   "cell_type": "markdown",
   "metadata": {},
   "source": [
    "Consider the optimisation problem\n",
    "\n",
    "$$\n",
    "\\begin{array}{ll}\n",
    "\\min & x^2+1\\\\\n",
    "s.t. & (x-2)(x-4) \\le 0,\n",
    "\\end{array}\n",
    "$$\n",
    "\n",
    "with variable $x\\in\\mathbb{R}$.\n",
    "1.    Give the feasible set, the optimal value, and the optimal solution. Plot the objective $x^2+1$ versus $x$. On the same plot, show the feasible set, optimal point and value.\n",
    "2.    Plot the Lagrangian $L(x, \\lambda)$ versus $x$ for a few positive values of $\\lambda$. Verify the lower bound property ($p^* \\ge \\inf_x L(x, \\lambda)$ for $\\lambda\\ge 0$). Derive and sketch the Lagrange dual function $g$.\n",
    "3.    State the dual problem, and verify that it is a concave maximization problem. Find the dual optimal value and dual optimal solution $\\lambda^*$. Does strong duality hold?\n",
    "4.    Let $p^*(u)$ denote the optimal value of the perturbed problem\n",
    "$$\n",
    "\\begin{array}{ll}\n",
    "\\min & x^2+1\\\\\n",
    "s.t. & (x-2)(x-4) \\le u\n",
    "\\end{array}\n",
    "$$\n",
    "as a function of the parameter $u$. Plot $p^*(u)$. Verify that $\\frac{dp^*}{du}(0) = −\\lambda^*$."
   ]
  },
  {
   "cell_type": "markdown",
   "metadata": {},
   "source": [
    "## Exercise 3"
   ]
  },
  {
   "cell_type": "markdown",
   "metadata": {},
   "source": [
    "Find the dual function of the LP\n",
    "$$\n",
    "\\begin{array}{ll}\n",
    "\\min & c^\\top x\\\\\n",
    "s.t. & G x \\preceq h\\\\\n",
    "& Ax =b.\n",
    "\\end{array}\n",
    "$$\n",
    "Give the dual problem, and make the implicit equality constraints explicit."
   ]
  }
 ],
 "metadata": {
  "language_info": {
   "name": "python"
  },
  "orig_nbformat": 4
 },
 "nbformat": 4,
 "nbformat_minor": 2
}
