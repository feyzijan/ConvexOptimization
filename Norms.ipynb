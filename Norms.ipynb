{
 "cells": [
  {
   "cell_type": "markdown",
   "metadata": {},
   "source": [
    "# Exercise 1 - Basic Norm Approximation"
   ]
  },
  {
   "cell_type": "markdown",
   "metadata": {},
   "source": [
    "Consider the basic norm approximation problem\n",
    "\n",
    "$$\\displaystyle\\min_x || Ax-b || \\tag{1}$$\n",
    "\n",
    "Tha data of the problem is given by"
   ]
  },
  {
   "cell_type": "code",
   "execution_count": null,
   "metadata": {},
   "outputs": [],
   "source": [
    "import cvxpy as cp\n",
    "import numpy as np\n",
    "\n",
    "m = 100\n",
    "n = 30\n",
    "np.random.seed(1)\n",
    "A = np.random.randn(m, n)\n",
    "b = np.random.randn(m)"
   ]
  },
  {
   "cell_type": "markdown",
   "metadata": {},
   "source": [
    "**Question 1:** Solve problem $(1)$ for the norms\n",
    "\n",
    "\n",
    "\n",
    "1.   $\\ell_1$-norm\n",
    "2.   $\\ell_2$-norm\n",
    "3.   $\\ell_\\infty$-norm\n",
    "\n",
    "You may find this useful https://www.cvxpy.org/tutorial/functions/index.html#scalar-functions"
   ]
  },
  {
   "cell_type": "markdown",
   "metadata": {},
   "source": [
    "## Solution 1"
   ]
  },
  {
   "cell_type": "code",
   "execution_count": null,
   "metadata": {},
   "outputs": [],
   "source": [
    "x = cp.Variable(n)"
   ]
  },
  {
   "cell_type": "code",
   "execution_count": null,
   "metadata": {},
   "outputs": [],
   "source": [
    "objective_1 = cp.Minimize(cp.norm1(A@x-b))\n",
    "objective_2 = cp.Minimize(cp.norm2(A@x-b))\n",
    "objective_3 = cp.Minimize(cp.norm(A@x-b, \"inf\"))"
   ]
  },
  {
   "cell_type": "code",
   "execution_count": null,
   "metadata": {},
   "outputs": [],
   "source": [
    "prob1 = cp.Problem(objective_1)\n",
    "prob2 = cp.Problem(objective_2)\n",
    "prob3 = cp.Problem(objective_3)"
   ]
  },
  {
   "cell_type": "code",
   "execution_count": null,
   "metadata": {},
   "outputs": [
    {
     "name": "stdout",
     "output_type": "stream",
     "text": [
      "L1 norm\n",
      "status: optimal\n",
      "Optimal value 58.3541343098558\n",
      "Optimal var x : [ 0.00597016  0.12866676  0.00046055  0.09485549 -0.05603852 -0.043279\n",
      "  0.32871706  0.01329277 -0.03189173 -0.13070151 -0.0836683  -0.04578268\n",
      " -0.04179762 -0.12144361  0.09157293  0.18556523  0.00387592 -0.02930064\n",
      "  0.07243687 -0.08907623  0.04191256 -0.22432457 -0.1545783  -0.24784522\n",
      " -0.03543109 -0.02868336  0.11996305  0.33224336 -0.40499356  0.08653447]\n"
     ]
    }
   ],
   "source": [
    "print(\"L1 norm\")\n",
    "prob1.solve()\n",
    "print(\"status:\", prob1.status)\n",
    "print(\"Optimal value\", prob1.value)\n",
    "print(\"Optimal var x :\", x.value)\n",
    "x_1 = x.value"
   ]
  },
  {
   "cell_type": "code",
   "execution_count": null,
   "metadata": {},
   "outputs": [
    {
     "name": "stdout",
     "output_type": "stream",
     "text": [
      "L2 norm\n",
      "status: optimal\n",
      "Optimal value 8.710488997430938\n",
      "Optimal var x : [ 0.09211114  0.12378514 -0.03627341  0.0842883  -0.05368962  0.06737916\n",
      "  0.21429139  0.15684597 -0.02126973  0.05830681  0.01441413  0.04799672\n",
      " -0.04891163 -0.11649284  0.09410055  0.08204682 -0.04740997 -0.00248834\n",
      " -0.04534811 -0.1128231   0.03143639 -0.20841396 -0.20833178 -0.16609704\n",
      "  0.05853182 -0.04627497  0.14964816  0.05635963 -0.18863787  0.02544112]\n"
     ]
    }
   ],
   "source": [
    "print(\"L2 norm\")\n",
    "prob2.solve()\n",
    "print(\"status:\", prob2.status)\n",
    "print(\"Optimal value\", prob2.value)\n",
    "print(\"Optimal var x :\", x.value)\n",
    "x_2 = x.value"
   ]
  },
  {
   "cell_type": "code",
   "execution_count": null,
   "metadata": {},
   "outputs": [
    {
     "name": "stdout",
     "output_type": "stream",
     "text": [
      "Linf norm\n",
      "status: optimal\n",
      "Optimal value 1.4923673432067295\n",
      "Optimal var x : [ 0.22912296  0.24680539 -0.08587196 -0.02428041 -0.01004425  0.15645074\n",
      "  0.24179898  0.44586877 -0.01340628  0.20175949  0.12495037 -0.03823267\n",
      "  0.07774347 -0.18645087  0.10689199  0.13484414 -0.14471844  0.10315136\n",
      " -0.08192427 -0.11368871  0.06065994 -0.25305524 -0.32471452 -0.07527685\n",
      "  0.19018136 -0.10217563  0.22324193 -0.13506464  0.05287277  0.12431246]\n"
     ]
    }
   ],
   "source": [
    "print(\"Linf norm\")\n",
    "prob3.solve()\n",
    "print(\"status:\", prob3.status)\n",
    "print(\"Optimal value\", prob3.value)\n",
    "print(\"Optimal var x :\", x.value)\n",
    "x_3 = x.value"
   ]
  },
  {
   "cell_type": "markdown",
   "metadata": {},
   "source": [
    "**Question 2:** Compute the residuals for each of the three norms (e.g. r_l1 = A @ x.value - b) and plot the three hystograms of the residuals. To plot the hystograms use the command"
   ]
  },
  {
   "cell_type": "code",
   "execution_count": null,
   "metadata": {},
   "outputs": [],
   "source": [
    "import matplotlib.pyplot as plt"
   ]
  },
  {
   "cell_type": "code",
   "execution_count": null,
   "metadata": {},
   "outputs": [],
   "source": [
    "r_l1 = np.matmul(A,x_1) - b"
   ]
  },
  {
   "cell_type": "code",
   "execution_count": null,
   "metadata": {},
   "outputs": [],
   "source": [
    "r_l2 = np.matmul(A,x_2) - b"
   ]
  },
  {
   "cell_type": "code",
   "execution_count": null,
   "metadata": {},
   "outputs": [],
   "source": [
    "r_linf = np.matmul(A,x_3) - b"
   ]
  },
  {
   "cell_type": "code",
   "execution_count": null,
   "metadata": {},
   "outputs": [
    {
     "data": {
      "text/plain": [
       "Text(0.5, 1.0, 'Residual l1')"
      ]
     },
     "metadata": {},
     "output_type": "display_data"
    },
    {
     "data": {
      "image/png": "[encoded data removed]",
      "text/plain": [
       "<Figure size 432x288 with 1 Axes>"
      ]
     },
     "metadata": {},
     "output_type": "display_data"
    }
   ],
   "source": [
    "plt.hist(r_l1, 50); # plot the hystogram of residual r_l1 with 50 bins\n",
    "plt.title(\"Residual l1\")"
   ]
  },
  {
   "cell_type": "code",
   "execution_count": null,
   "metadata": {},
   "outputs": [
    {
     "data": {
      "text/plain": [
       "Text(0.5, 1.0, 'Residual l2')"
      ]
     },
     "metadata": {},
     "output_type": "display_data"
    },
    {
     "data": {
      "image/png": "[encoded data removed]",
      "text/plain": [
       "<Figure size 432x288 with 1 Axes>"
      ]
     },
     "metadata": {},
     "output_type": "display_data"
    }
   ],
   "source": [
    "plt.hist(r_l2, 50); # plot the hystogram of residual r_l1 with 50 bins\n",
    "plt.title(\"Residual l2\")"
   ]
  },
  {
   "cell_type": "code",
   "execution_count": null,
   "metadata": {},
   "outputs": [
    {
     "data": {
      "text/plain": [
       "Text(0.5, 1.0, 'Residual linf')"
      ]
     },
     "metadata": {},
     "output_type": "display_data"
    },
    {
     "data": {
      "image/png": "[encoded data removed]",
      "text/plain": [
       "<Figure size 432x288 with 1 Axes>"
      ]
     },
     "metadata": {},
     "output_type": "display_data"
    }
   ],
   "source": [
    "plt.hist(r_linf, 100); # plot the hystogram of residual r_l1 with 50 bins\n",
    "plt.title(\"Residual linf\")"
   ]
  },
  {
   "cell_type": "markdown",
   "metadata": {},
   "source": [
    "**Question 3:** Explain why the residuals are distributed the way they are in the $\\ell_\\infty$ case, and compare this distribution to that of the $\\ell_1$ and $\\ell_2$ cases."
   ]
  },
  {
   "cell_type": "markdown",
   "metadata": {},
   "source": [
    "L infinity norm tries minimise the absolute maximum error, so it pushes a lot of the residuals above the |1.5| boundaries to the boundareis. It doesn't care about the residuals below the maximum boundaries, so they seem to be roughly evenly spread.\n",
    "\n",
    "In comparison the l2 norm weighs large residuals proportionally more than l1 and linifinty, so we see a lot of residuals around 0.\n",
    "\n",
    "The l1 norm has a lot of zero residuals. Because the l1 cost function has a constant slope so there is always an incentive to push residuals to zero.\n"
   ]
  }
 ],
 "metadata": {
  "language_info": {
   "name": "python"
  },
  "orig_nbformat": 4
 },
 "nbformat": 4,
 "nbformat_minor": 2
}
