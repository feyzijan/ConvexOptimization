{
 "cells": [
  {
   "cell_type": "markdown",
   "metadata": {},
   "source": [
    "## Exercise 1"
   ]
  },
  {
   "cell_type": "markdown",
   "metadata": {},
   "source": [
    "A common approximation problem consists in fitting a series of measurements using a specific class of functions. For instance, one can look for the best linear interpolator or the best polynomial interpolator. A popular class of interpolators is the class of rational functions, i.e. functions which are the ratio of two polynomials. For instance, this is the case in control engineering, where the measurements are sampled values of the transfer function, called \"moments\", and we aim at obtaining the best transfer function that matches the sampled moments. Of course, transfer functions are rational functions.\n",
    "\n",
    "Consider the following **quasiconvex** optimisation problem:\n",
    "$$\n",
    "\\begin{array}{ll}\n",
    "\\min & \\displaystyle \\max_{i=1,\\dots,k} \\left| \\frac{p(t_i)}{q(t_i)}-y_i\\right| \n",
    "\\end{array} \\tag{1}\n",
    "$$\n",
    "with\n",
    "$$\n",
    "p(t) = a_0 + a_1 t + a_2 t^2 + \\cdots + a_m t^m, \\qquad q(t) = 1 + b_1t + \\cdots + b_n t^n,\n",
    "$$\n",
    "where the domain of the objective function is\n",
    "$$\n",
    "D = \\{(a,b)\\in \\mathbb{R}^{m+1}\\times \\mathbb{R}^n : q(t) > 0, \\,\\,\\alpha \\le t \\le \\beta \\}.\n",
    "$$\n",
    "In this problem we fit a rational function $p(t)/q(t)$ to given data $y$, while constraining the polynomial denominator to be positive in the interval $[\\alpha,\\beta]$. The optimisation variables are the numerator and denominator coefficients $a_i$ and $b_i$."
   ]
  },
  {
   "cell_type": "markdown",
   "metadata": {},
   "source": [
    "Here, we consider the specific problem instance with data\n",
    "\n",
    "$$\n",
    "t_i = -3 + 6\\frac{i-1}{k-1}, \\quad y_i = e^{t_i}, \\quad i=1,\\dots,k, \\tag{2}\n",
    "$$\n",
    "\n",
    "where $k=201$. In other words, the data are obtained by uniformly sampling the exponential function over the interval $[-3,3]$. \n",
    "\n",
    "For this exercise you will find useful Sub-Section \"*Representation via a family of convex functions*\" in 4.3.1 and\n",
    "Sub-Section \"*Special case: Quasiconvex Optimisation*\" in 5.1.1.\n",
    "\n",
    "*    Transform problem $(1)$ into a convex feasibility problem. (*NB: you do not have to prove that the convex representation is convex. The proof is postponed to Exercise $2$*).\n",
    "*    Solve problem $(1)$ for $m=2$ and $n=2$, with a bisection tolerance of $0.001$ (as upper bound you can pick $e^3$). \n",
    "*    Plot, in the same figure, the exponential in $(2)$ with a solid line and the rational approximation obtained with the optimal $a_0$, $a_1$, $a_2$, $b_1$ and $b_2$ with a dashed line."
   ]
  },
  {
   "cell_type": "code",
   "execution_count": null,
   "metadata": {},
   "outputs": [],
   "source": [
    "import numpy as np\n",
    "import cvxpy as cp"
   ]
  },
  {
   "cell_type": "code",
   "execution_count": null,
   "metadata": {},
   "outputs": [],
   "source": [
    "m = 2\n",
    "n = 2\n",
    "tolerance = 0.001\n",
    "\n",
    "p = lambda x,a0,a1: 1 + a0*x + a1*x**2\n",
    "q = lambda x,b0,b1: 1 + b0*x + b1*x**2\n",
    "\n",
    "phi = lambda y,t,x: np.abs(p(x) - y * q(x)) - t*q(x)"
   ]
  },
  {
   "cell_type": "code",
   "execution_count": null,
   "metadata": {},
   "outputs": [
    {
     "name": "stdout",
     "output_type": "stream",
     "text": [
      "tp: (201, 3)\n",
      "tq: (201, 2)\n",
      "y: (201,)\n"
     ]
    }
   ],
   "source": [
    "\n",
    "k = 201\n",
    "tp = np.zeros((k,3))\n",
    "tq = np.zeros((k,2))\n",
    "for i in range(1,k+1):\n",
    "  tp[i-1][0] = 1\n",
    "  tp[i-1][1] = -3 + 6*(i-1)/(k-1)\n",
    "  tp[i-1][2] = tp[i-1][1]**2\n",
    "  tq[i-1][0] = tp[i-1][1] \n",
    "  tq[i-1][1] = tp[i-1][2]\n",
    "\n",
    "y = np.exp(tp[:,1])\n",
    "\n",
    "print(\"tp:\",tp.shape)\n",
    "print(\"tq:\",tq.shape)\n",
    "print(\"y:\",y.shape)"
   ]
  },
  {
   "cell_type": "code",
   "execution_count": null,
   "metadata": {},
   "outputs": [
    {
     "name": "stdout",
     "output_type": "stream",
     "text": [
      "(1, 2)\n"
     ]
    }
   ],
   "source": [
    "p = cp.Variable((1,3))\n",
    "q = cp.Variable((1,2))\n",
    "\n",
    "a = cp.Variable((1,3))\n",
    "b = cp.Variable((1,2))\n",
    "\n",
    "\n",
    "print(q.shape)\n",
    "\n",
    "constraints = [ cp.abs(p@tp.T  - y.T@(q@tq.T).T) - q@tq.T <= 0,\n",
    "               q@tq.T >=0,\n",
    "]\n",
    "\n",
    "obj = cp.Minimize(0)\n",
    "\n",
    "prob = cp.Problem(obj,constraints)\n",
    "\n",
    "# 1,22,"
   ]
  },
  {
   "cell_type": "code",
   "execution_count": null,
   "metadata": {},
   "outputs": [
    {
     "data": {
      "application/vnd.google.colaboratory.intrinsic+json": {
       "type": "string"
      },
      "text/plain": [
       "'optimal'"
      ]
     },
     "metadata": {},
     "output_type": "display_data"
    }
   ],
   "source": [
    "prob.solve()\n",
    "prob.status"
   ]
  },
  {
   "cell_type": "code",
   "execution_count": null,
   "metadata": {},
   "outputs": [
    {
     "ename": "SyntaxError",
     "evalue": "ignored",
     "output_type": "error",
     "traceback": [
      "\u001b[0;36m  File \u001b[0;32m\"<ipython-input-91-99416f0bdff0>\"\u001b[0;36m, line \u001b[0;32m6\u001b[0m\n",
      "\u001b[0;31m    \u001b[0m\n",
      "\u001b[0m    ^\u001b[0m\n",
      "\u001b[0;31mSyntaxError\u001b[0m\u001b[0;31m:\u001b[0m unexpected EOF while parsing\n"
     ]
    }
   ],
   "source": [
    "l = 0\n",
    "u = np.exp(3)\n",
    "\n",
    "while(u-l>tolerance):\n",
    "  \n",
    "\n"
   ]
  },
  {
   "cell_type": "code",
   "execution_count": null,
   "metadata": {},
   "outputs": [
    {
     "data": {
      "text/plain": [
       "(2,)"
      ]
     },
     "metadata": {},
     "output_type": "display_data"
    }
   ],
   "source": []
  },
  {
   "cell_type": "code",
   "execution_count": null,
   "metadata": {},
   "outputs": [],
   "source": []
  },
  {
   "cell_type": "code",
   "execution_count": null,
   "metadata": {},
   "outputs": [
    {
     "data": {
      "text/plain": [
       "array([ 0.  , -3.  , -2.97, -2.94, -2.91, -2.88, -2.85, -2.82, -2.79,\n",
       "       -2.76, -2.73, -2.7 , -2.67, -2.64, -2.61, -2.58, -2.55, -2.52,\n",
       "       -2.49, -2.46, -2.43, -2.4 , -2.37, -2.34, -2.31, -2.28, -2.25,\n",
       "       -2.22, -2.19, -2.16, -2.13, -2.1 , -2.07, -2.04, -2.01, -1.98,\n",
       "       -1.95, -1.92, -1.89, -1.86, -1.83, -1.8 , -1.77, -1.74, -1.71,\n",
       "       -1.68, -1.65, -1.62, -1.59, -1.56, -1.53, -1.5 , -1.47, -1.44,\n",
       "       -1.41, -1.38, -1.35, -1.32, -1.29, -1.26, -1.23, -1.2 , -1.17,\n",
       "       -1.14, -1.11, -1.08, -1.05, -1.02, -0.99, -0.96, -0.93, -0.9 ,\n",
       "       -0.87, -0.84, -0.81, -0.78, -0.75, -0.72, -0.69, -0.66, -0.63,\n",
       "       -0.6 , -0.57, -0.54, -0.51, -0.48, -0.45, -0.42, -0.39, -0.36,\n",
       "       -0.33, -0.3 , -0.27, -0.24, -0.21, -0.18, -0.15, -0.12, -0.09,\n",
       "       -0.06, -0.03,  0.  ,  0.03,  0.06,  0.09,  0.12,  0.15,  0.18,\n",
       "        0.21,  0.24,  0.27,  0.3 ,  0.33,  0.36,  0.39,  0.42,  0.45,\n",
       "        0.48,  0.51,  0.54,  0.57,  0.6 ,  0.63,  0.66,  0.69,  0.72,\n",
       "        0.75,  0.78,  0.81,  0.84,  0.87,  0.9 ,  0.93,  0.96,  0.99,\n",
       "        1.02,  1.05,  1.08,  1.11,  1.14,  1.17,  1.2 ,  1.23,  1.26,\n",
       "        1.29,  1.32,  1.35,  1.38,  1.41,  1.44,  1.47,  1.5 ,  1.53,\n",
       "        1.56,  1.59,  1.62,  1.65,  1.68,  1.71,  1.74,  1.77,  1.8 ,\n",
       "        1.83,  1.86,  1.89,  1.92,  1.95,  1.98,  2.01,  2.04,  2.07,\n",
       "        2.1 ,  2.13,  2.16,  2.19,  2.22,  2.25,  2.28,  2.31,  2.34,\n",
       "        2.37,  2.4 ,  2.43,  2.46,  2.49,  2.52,  2.55,  2.58,  2.61,\n",
       "        2.64,  2.67,  2.7 ,  2.73,  2.76,  2.79,  2.82,  2.85,  2.88,\n",
       "        2.91,  2.94,  2.97,  3.  ,  3.03])"
      ]
     },
     "metadata": {},
     "output_type": "display_data"
    }
   ],
   "source": [
    "# Transform to convex feasiblity problem\n",
    "\n"
   ]
  },
  {
   "cell_type": "code",
   "execution_count": null,
   "metadata": {},
   "outputs": [],
   "source": []
  },
  {
   "cell_type": "markdown",
   "metadata": {},
   "source": [
    "### Solution Exercise 1"
   ]
  },
  {
   "cell_type": "markdown",
   "metadata": {},
   "source": [
    "The problem can be solved by transforming it into a feasibility problem, namely\n",
    "\n",
    "$$\n",
    "\\begin{array}{lll}\n",
    "\\min & 0 & \\\\\n",
    "\\text{s.t.} & | p(t_i) - y_i q(t_i)| \\le \\gamma q(t_i) & i=1,\\dots,k  \n",
    "\\end{array} \\tag{1}\n",
    "$$\n",
    "\n",
    "which is solved in the following code. (The proof of the convexity of the problem above is postponed to Exercise $2$.)"
   ]
  },
  {
   "cell_type": "code",
   "execution_count": null,
   "metadata": {},
   "outputs": [],
   "source": [
    "# Include some libraries\n",
    "import cvxpy as cp\n",
    "import numpy as np\n",
    "import math\n",
    "import matplotlib.pyplot as plt"
   ]
  },
  {
   "cell_type": "code",
   "execution_count": null,
   "metadata": {},
   "outputs": [],
   "source": [
    "# Generate the points for the interpolation\n",
    "k = 201\n",
    "t = np.zeros(k)\n",
    "y = np.zeros(k)\n",
    "\n",
    "for i in range(k):\n",
    "  t[i] = -3 + 6*(i)/(k-1)\n",
    "  y[i] = math.exp(t[i])"
   ]
  },
  {
   "cell_type": "code",
   "execution_count": null,
   "metadata": {},
   "outputs": [],
   "source": [
    "# Declare the variables\n",
    "a = cp.Variable(3)\n",
    "b = cp.Variable(2)\n",
    "\n",
    "# Construct the array [1  b_0  b_1]\n",
    "bt=np.array([1,0,0])+np.array([0,1,0])*b[0]+np.array([0,0,1])*b[1]\n",
    "\n",
    "# Construct the matrix where the row i is [1 t_i t_i^2]\n",
    "Tmatrix = np.array([np.ones(k), t, t*t])"
   ]
  },
  {
   "cell_type": "code",
   "execution_count": null,
   "metadata": {},
   "outputs": [],
   "source": [
    "# Tolerance, upper and lower bound for the bisection\n",
    "u = math.exp(3)\n",
    "l = 0\n",
    "tol = 0.001\n",
    "\n",
    "# Bisection algorithm\n",
    "while u-l >= tol:\n",
    "  gamma = (l+u)/2\n",
    "  # Formulation and soluton of the feasibility problem\n",
    "  pt = a@Tmatrix\n",
    "  qt = bt@Tmatrix\n",
    "  constr = [cp.abs(pt - cp.multiply(y,qt)) <= gamma*qt]\n",
    "  prob = cp.Problem(cp.Minimize(0),constr)\n",
    "  prob.solve()\n",
    "\n",
    "  if prob.status == 'optimal':\n",
    "    u=gamma\n",
    "    a_opt=a.value\n",
    "    b_opt=b.value\n",
    "    objval_opt=gamma\n",
    "  else:\n",
    "    l=gamma"
   ]
  },
  {
   "cell_type": "code",
   "execution_count": null,
   "metadata": {},
   "outputs": [
    {
     "name": "stdout",
     "output_type": "stream",
     "text": [
      "The optimal a_i are [1.00971251 0.61197358 0.11353697]\n",
      "The optimal b_i are [-0.41454048  0.04848698]\n",
      "The optimal objective value is 0.02329255380496617\n"
     ]
    }
   ],
   "source": [
    "print(\"The optimal a_i are\",a_opt)\n",
    "print(\"The optimal b_i are\",b_opt)\n",
    "print(\"The optimal objective value is\",objval_opt)"
   ]
  },
  {
   "cell_type": "code",
   "execution_count": null,
   "metadata": {},
   "outputs": [],
   "source": [
    "# Computation of the optimal interpolant\n",
    "bt_opt=np.array([1,0,0])+np.array([0,1,0])*b_opt[0]+np.array([0,0,1])*b_opt[1]\n",
    "y_fit=a_opt@Tmatrix/(bt_opt@Tmatrix)"
   ]
  },
  {
   "cell_type": "code",
   "execution_count": null,
   "metadata": {},
   "outputs": [
    {
     "data": {
      "image/png": "[encoded data removed]",
      "text/plain": [
       "<Figure size 432x288 with 1 Axes>"
      ]
     },
     "metadata": {},
     "output_type": "display_data"
    }
   ],
   "source": [
    "# Plot of the interpolant and of the real function\n",
    "plt.plot(t, y,'-b',label=\"Exponential\")\n",
    "plt.plot(t, y_fit,'-.r',label=\"Rational interpolant\")\n",
    "plt.legend()\n",
    "plt.show()"
   ]
  },
  {
   "cell_type": "code",
   "execution_count": null,
   "metadata": {},
   "outputs": [],
   "source": []
  },
  {
   "cell_type": "code",
   "execution_count": null,
   "metadata": {},
   "outputs": [],
   "source": []
  },
  {
   "cell_type": "markdown",
   "metadata": {},
   "source": [
    "# Exercise : IMPORTANT: read this"
   ]
  },
  {
   "cell_type": "markdown",
   "metadata": {},
   "source": [
    "It turns out that CVXPY usually is not able to solve quasiconvex optimisation problems in the way you have just done, because CVXPY does not always recognise the transformed feasibility problem as convex (i.e. even if you prove its sublevel sets are convex, CVXPY may not know this and thinks that the problem is not convex). \n",
    "\n",
    "The reason the problem that you have just solved worked is because for that special case the transformed problem is just an LP, which CVXPY recognises as convex.\n",
    "\n",
    "Despite this, CVXPY can solve some quasiconvex optimisation problems directly, by using a specially designed quasiconvex solver, on specially designed quasiconvex atoms. This solver does nothing else than using the bisection algorithm, but it is capable of recognising some classes of quasiconvex problems. For instance consider the problem"
   ]
  },
  {
   "cell_type": "markdown",
   "metadata": {},
   "source": [
    "$$\n",
    "\\begin{array}{ll}\n",
    "\\displaystyle \\max_{x} &  \\displaystyle \\frac{\\sqrt{x}}{e^x}\n",
    "\\end{array} \\tag{1}\n",
    "$$"
   ]
  },
  {
   "cell_type": "markdown",
   "metadata": {},
   "source": [
    "This is a quasiconvex problem because $\\frac{\\sqrt{x}}{e^x}$ is a quasiconcave function, as the graph below shows."
   ]
  },
  {
   "cell_type": "code",
   "execution_count": null,
   "metadata": {},
   "outputs": [
    {
     "data": {
      "image/png": "[encoded data removed]",
      "text/plain": [
       "<Figure size 432x288 with 1 Axes>"
      ]
     },
     "metadata": {},
     "output_type": "display_data"
    }
   ],
   "source": [
    "import cvxpy as cp\n",
    "import numpy as np\n",
    "import matplotlib.pyplot as plt\n",
    "plt.plot([np.sqrt(y) / np.exp(y) for y in np.linspace(0, 10)])\n",
    "plt.show()"
   ]
  },
  {
   "cell_type": "markdown",
   "metadata": {},
   "source": [
    "Problem $(1)$ can be solved easily using the following code:"
   ]
  },
  {
   "cell_type": "code",
   "execution_count": null,
   "metadata": {},
   "outputs": [
    {
     "data": {
      "text/plain": [
       "0.4288819424791909"
      ]
     },
     "metadata": {},
     "output_type": "display_data"
    }
   ],
   "source": [
    "x = cp.Variable()\n",
    "problem = cp.Problem(cp.Maximize(cp.sqrt(x) / cp.exp(x)))\n",
    "problem.solve(qcp=True)"
   ]
  },
  {
   "cell_type": "markdown",
   "metadata": {},
   "source": [
    "Note that in the code above we simply declared the objective function as we would normally do for a convex problem and we solved it with the command `problem.solve(qcp=True)`. This command is important because it tells CVXPY to use the quasiconvex solver."
   ]
  },
  {
   "cell_type": "markdown",
   "metadata": {},
   "source": [
    "For the sake of clarity, note that this problem can be solved using bisection (like you did before) on a feasibility problem, but for more general problems (like the ones in the exercises below) CVXPY does not recognize that the feasibility problem is convex and you must use the quasiconvex solver."
   ]
  },
  {
   "cell_type": "code",
   "execution_count": null,
   "metadata": {},
   "outputs": [
    {
     "ename": "NameError",
     "evalue": "ignored",
     "output_type": "error",
     "traceback": [
      "\u001b[0;31m---------------------------------------------------------------------------\u001b[0m\n",
      "\u001b[0;31mNameError\u001b[0m                                 Traceback (most recent call last)\n",
      "\u001b[0;32m<ipython-input-2-1d18e78f0332>\u001b[0m in \u001b[0;36m<module>\u001b[0;34m\u001b[0m\n",
      "\u001b[1;32m      8\u001b[0m   \u001b[0mgamma\u001b[0m \u001b[0;34m=\u001b[0m \u001b[0;34m(\u001b[0m\u001b[0ml\u001b[0m\u001b[0;34m+\u001b[0m\u001b[0mu\u001b[0m\u001b[0;34m)\u001b[0m\u001b[0;34m/\u001b[0m\u001b[0;36m2\u001b[0m\u001b[0;34m\u001b[0m\u001b[0;34m\u001b[0m\u001b[0m\n",
      "\u001b[1;32m      9\u001b[0m   \u001b[0;31m# Formulation and soluton of the feasibility problem\u001b[0m\u001b[0;34m\u001b[0m\u001b[0;34m\u001b[0m\u001b[0;34m\u001b[0m\u001b[0m\n",
      "\u001b[0;32m---> 10\u001b[0;31m   \u001b[0mconstr\u001b[0m \u001b[0;34m=\u001b[0m \u001b[0;34m[\u001b[0m\u001b[0;34m-\u001b[0m\u001b[0mcp\u001b[0m\u001b[0;34m.\u001b[0m\u001b[0msqrt\u001b[0m\u001b[0;34m(\u001b[0m\u001b[0mx\u001b[0m\u001b[0;34m)\u001b[0m\u001b[0;34m<=\u001b[0m\u001b[0mgamma\u001b[0m\u001b[0;34m*\u001b[0m\u001b[0mcp\u001b[0m\u001b[0;34m.\u001b[0m\u001b[0mexp\u001b[0m\u001b[0;34m(\u001b[0m\u001b[0mx\u001b[0m\u001b[0;34m)\u001b[0m\u001b[0;34m,\u001b[0m\u001b[0mx\u001b[0m\u001b[0;34m>=\u001b[0m\u001b[0;36m0\u001b[0m\u001b[0;34m]\u001b[0m\u001b[0;34m\u001b[0m\u001b[0;34m\u001b[0m\u001b[0m\n",
      "\u001b[0m\u001b[1;32m     11\u001b[0m   \u001b[0mprob\u001b[0m \u001b[0;34m=\u001b[0m \u001b[0mcp\u001b[0m\u001b[0;34m.\u001b[0m\u001b[0mProblem\u001b[0m\u001b[0;34m(\u001b[0m\u001b[0mcp\u001b[0m\u001b[0;34m.\u001b[0m\u001b[0mMinimize\u001b[0m\u001b[0;34m(\u001b[0m\u001b[0;36m0\u001b[0m\u001b[0;34m)\u001b[0m\u001b[0;34m,\u001b[0m\u001b[0mconstr\u001b[0m\u001b[0;34m)\u001b[0m\u001b[0;34m\u001b[0m\u001b[0;34m\u001b[0m\u001b[0m\n",
      "\u001b[1;32m     12\u001b[0m   \u001b[0mprob\u001b[0m\u001b[0;34m.\u001b[0m\u001b[0msolve\u001b[0m\u001b[0;34m(\u001b[0m\u001b[0;34m)\u001b[0m\u001b[0;34m\u001b[0m\u001b[0;34m\u001b[0m\u001b[0m\n",
      "\n",
      "\u001b[0;31mNameError\u001b[0m: name 'x' is not defined"
     ]
    }
   ],
   "source": [
    "# Tolerance, upper and lower bound for the bisection\n",
    "u = 0\n",
    "l = -10\n",
    "tol = 0.0001\n",
    "\n",
    "# Bisection algorithm\n",
    "while u-l >= tol:\n",
    "  gamma = (l+u)/2\n",
    "  # Formulation and soluton of the feasibility problem\n",
    "  constr = [-cp.sqrt(x)<=gamma*cp.exp(x),x>=0]\n",
    "  prob = cp.Problem(cp.Minimize(0),constr)\n",
    "  prob.solve()\n",
    "\n",
    "  if prob.status == 'optimal':\n",
    "    u=gamma\n",
    "    x_opt=x.value\n",
    "    objval_opt=gamma\n",
    "  else:\n",
    "    l=gamma\n",
    "\n",
    "print(-objval_opt)"
   ]
  },
  {
   "cell_type": "markdown",
   "metadata": {},
   "source": [
    "# Exercise 1 - Quasiconvex Optimisation"
   ]
  },
  {
   "cell_type": "markdown",
   "metadata": {},
   "source": [
    "Consider the problem of minimising the ratio of the Eucliden distance from $a$ over the Eucliden distance from $b$, namely\n",
    "\n",
    "$$\n",
    "\\min \\quad \\frac{||x-a||_2}{||x-b||_2}\n",
    "$$\n",
    "\n",
    "This is a quasiconvex optimisation problem. \n",
    "\n",
    "*   Solve it with the data given below. Note that you need to use the [quasiconvex atom](https://www.cvxpy.org/tutorial/dqcp/index.html?highlight=dist_ratio#dqcp-atoms) `cvxpy.dist_ratio(x, a, b)` which denotes the function $\\frac{||x-a||_2}{||x-b||_2}$.\n",
    "*   Print the optimal ratio. \n",
    "*   Print the optimal $x$."
   ]
  },
  {
   "cell_type": "code",
   "execution_count": null,
   "metadata": {},
   "outputs": [],
   "source": [
    "# Data\n",
    "n = 10\n",
    "np.random.seed(1)\n",
    "a = np.random.randn(n)\n",
    "b = np.random.randn(n)"
   ]
  },
  {
   "cell_type": "markdown",
   "metadata": {},
   "source": [
    "# Exercise 2"
   ]
  },
  {
   "cell_type": "markdown",
   "metadata": {},
   "source": [
    "Consider the problem of finding the *minimum-length* least squares approximation of a vector $b$. The length of a vector in $\\mathbb{R}^n$ is defined as the largest index corresponding to a nonzero component:\n",
    "\n",
    "$$\n",
    "\\text{len}(x) = \\max\\{i : x_i \\ne 0\\}.\n",
    "$$\n",
    "\n",
    "This function is quasiconvex on $\\mathbb{R}^n$ because its sublevel sets are subspaces and it is implemented in CVXPY by the atom `cvxpy.length(x)`. The problem can be formulated as\n",
    "\n",
    "$$\n",
    "\\begin{array}{ll}\n",
    "\\displaystyle \\min_{x} &  \\text{len} (x) \\\\ \n",
    "\\text{s.t. } & \\frac{1}{n}||Ax-b||_2^2 \\le \\varepsilon.\n",
    "\\end{array}\n",
    "$$\n",
    "\n",
    "where $\\frac{1}{n}||Ax-b||_2^2$ is the Mean-Square Error (MSE). \n",
    "\n",
    "The data of the problem is\n"
   ]
  },
  {
   "cell_type": "code",
   "execution_count": null,
   "metadata": {},
   "outputs": [],
   "source": [
    "# Data\n",
    "n = 10\n",
    "np.random.seed(1)\n",
    "A = np.random.randn(n, n)\n",
    "b = A @ np.random.randn(n)\n",
    "epsilon = 1e-2"
   ]
  },
  {
   "cell_type": "markdown",
   "metadata": {},
   "source": [
    "\n",
    "\n",
    "*   Solve the problem\n",
    "*   Print the optimal MSE\n",
    "*   Print the optimal $x$ rounded to two decimal digits\n",
    "\n"
   ]
  },
  {
   "cell_type": "code",
   "execution_count": null,
   "metadata": {},
   "outputs": [
    {
     "data": {
      "text/plain": [
       "10.0"
      ]
     },
     "metadata": {},
     "output_type": "display_data"
    }
   ],
   "source": [
    "x = cp.Variable((n))\n",
    "\n",
    "\n",
    "constraints = [1/n *cp.sum_squares(A @ x - b) <= epsilon ]\n",
    "\n",
    "obj = cp.Minimize(cp.length(x))\n",
    "\n",
    "prob = cp.Problem(obj,constraints)\n",
    "prob.solve(qcp=True)\n",
    "\n"
   ]
  },
  {
   "cell_type": "code",
   "execution_count": null,
   "metadata": {},
   "outputs": [
    {
     "data": {
      "text/plain": [
       "0.009260093288136621"
      ]
     },
     "metadata": {},
     "output_type": "display_data"
    }
   ],
   "source": [
    "mse = 1/n * np.sum((A@x.value -b)**2)\n",
    "mse"
   ]
  },
  {
   "cell_type": "code",
   "execution_count": null,
   "metadata": {},
   "outputs": [
    {
     "data": {
      "text/plain": [
       "array([-2.58366030e-01,  1.38434327e+00,  2.10714108e-01,  9.44811159e-01,\n",
       "       -1.14622208e+00,  1.51283929e-01,  6.62931941e-01, -1.16358584e+00,\n",
       "        2.78132907e-13, -1.76314786e-13])"
      ]
     },
     "metadata": {},
     "output_type": "display_data"
    }
   ],
   "source": [
    "x.value"
   ]
  },
  {
   "cell_type": "code",
   "execution_count": null,
   "metadata": {},
   "outputs": [
    {
     "name": "stdout",
     "output_type": "stream",
     "text": [
      "X values rounded:\n"
     ]
    },
    {
     "data": {
      "text/plain": [
       "array([-0.26,  1.38,  0.21,  0.94, -1.15,  0.15,  0.66, -1.16,  0.  ,\n",
       "       -0.  ])"
      ]
     },
     "metadata": {},
     "output_type": "display_data"
    }
   ],
   "source": [
    "print(\"X values rounded:\")\n",
    "np.around(x.value,decimals=2)"
   ]
  },
  {
   "cell_type": "markdown",
   "metadata": {},
   "source": [
    "Note: The x values in the indexes 9 and 10 are almost 0 but not quite, hence the prob.solve returns 10, but the answer should be 8 if you consider these last two elements as zero"
   ]
  },
  {
   "cell_type": "code",
   "execution_count": null,
   "metadata": {},
   "outputs": [],
   "source": []
  }
 ],
 "metadata": {
  "language_info": {
   "name": "python"
  },
  "orig_nbformat": 4
 },
 "nbformat": 4,
 "nbformat_minor": 2
}
