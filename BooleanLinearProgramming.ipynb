{
 "cells": [
  {
   "cell_type": "markdown",
   "metadata": {},
   "source": [
    "# Exercise - Boolean Linear Program"
   ]
  },
  {
   "cell_type": "markdown",
   "metadata": {},
   "source": [
    "Consider a three-state boolean linear programme\n",
    "\n",
    "$$\n",
    "\\begin{array}{ll}\n",
    "\\displaystyle \\min_{x} &  c^\\top x \\\\ \n",
    "\\text{s.t. } & Ax \\preccurlyeq b,\\\\\n",
    "& x_i\\in \\{0, 0.5, 1\\}, \\qquad i = 1, \\dots, n.\n",
    "\\end{array}\\tag{1}\n",
    "$$\n",
    "\n",
    "where the variable $x$ is constrained to have components equal to zero, half or one. You can think of $x_i$ as a job we can accept (1), subcontract (0.5) or decline (0), and $−c_i$ as the (positive) revenue we generate if we accept or subcontract job $i$. We can think of $Ax \\preccurlyeq b$ as a set of limits on $m$ resources. $A_{ij}$, which is positive, is the amount of resource $i$ consumed if we accept job $j$; If the job is subcontracted we have half the revenues, but we also half the amount of resources spent. $b_i$, which is positive, is the amount of resource $i$ available."
   ]
  },
  {
   "cell_type": "markdown",
   "metadata": {},
   "source": [
    "For your convenience, the relaxation of the problem (i.e. $0 \\le x\\le 1$) is already solved in the code below."
   ]
  },
  {
   "cell_type": "code",
   "execution_count": null,
   "metadata": {},
   "outputs": [],
   "source": [
    "import cvxpy as cp\n",
    "import numpy as np\n",
    "\n",
    "n = 100\n",
    "m = 300\n",
    "np.random.seed(1)\n",
    "A = np.random.random((m, n)) # positve\n",
    "b = np.dot(A,np.ones(n)/2) # postive\n",
    "c = -np.random.random(n) # negative, so -c is positive"
   ]
  },
  {
   "cell_type": "code",
   "execution_count": null,
   "metadata": {},
   "outputs": [
    {
     "name": "stdout",
     "output_type": "stream",
     "text": [
      "\n",
      "The optimal value is -34.589711316657315\n"
     ]
    }
   ],
   "source": [
    "# Define and solve the CVXPY problem.\n",
    "x = cp.Variable(n)\n",
    "prob = cp.Problem(cp.Minimize(c.T@x),[A @ x <= b, x >= 0, x<= 1])\n",
    "prob.solve()\n",
    "\n",
    "# Print result.\n",
    "L=prob.value\n",
    "print(\"\\nThe optimal value is\", prob.value)\n",
    "#print(\"A solution x is\", x.value)"
   ]
  },
  {
   "cell_type": "markdown",
   "metadata": {},
   "source": [
    "1.   Explain how you would develop a threshold rounding for this problem.\n",
    "2.   Carry out threshold rounding. For each value of of the threshold(s), note the objective value $c^\\top \\hat{x}$ and the maximum constraint violation $\\max_i(A\\hat{x} − b)_i$. \n",
    "3.   Find the minimum feasible objective value and note it as the upper bound $U$. Compute the relative suboptimality percentage as $\\frac{|U-L|}{|L|} \\times 100$."
   ]
  },
  {
   "cell_type": "markdown",
   "metadata": {},
   "source": [
    "## Solution"
   ]
  },
  {
   "cell_type": "markdown",
   "metadata": {},
   "source": [
    "1- I would create a meshgrid of t1, and t2, where both t1 and t2 range between 0 and 1 and take 100 unique values each, hence the meshgrid has 10000 element.s\n",
    "Round x <t1 to 0, t1<=x<=t2 to 0.5, and t2<x to 1\n",
    "I then calculate the cost and constraint vialation for each, and pick the threshold that with the lowest cost that satisfies the constraint\n",
    "- Below I used for loops for t1 and t2 rather than creating a meshgrid, but its practically the same"
   ]
  },
  {
   "cell_type": "code",
   "execution_count": null,
   "metadata": {},
   "outputs": [],
   "source": [
    "X = x.value\n",
    "cost_array = np.zeros((n,n))\n",
    "cost_array_non_violated = np.zeros((n,n))\n",
    "cost_array_violated = np.zeros((n,n))\n",
    "const_violation = np.zeros((n,n))\n",
    "\n",
    "for i in range(n):\n",
    "  t1 = i/n\n",
    "  for k in range(n):\n",
    "    t2 = k/n\n",
    "\n",
    "    x_temp = X.copy()\n",
    "\n",
    "    arr1 = np.where(X<=t1)\n",
    "    arr2 = np.where((X>t1) & (X<t2))\n",
    "    arr3 = np.where(X>=t2)\n",
    "    \n",
    "    x_temp[arr1] = 0\n",
    "    x_temp[arr2] = 0.5\n",
    "    x_temp[arr3] = 1\n",
    "    \n",
    "    const_violation[i][k] = np.max(np.matmul(A,x_temp) -b)\n",
    "    cost_array[i][k] = np.matmul(c.T,x_temp)\n",
    "\n",
    "    if(np.max(np.matmul(A,x_temp) -b) > 0):\n",
    "      cost_array_violated[i][k] = np.matmul(c.T,x_temp)\n",
    "    else:\n",
    "        cost_array_non_violated[i][k] = np.matmul(c.T,x_temp)\n",
    "      \n"
   ]
  },
  {
   "cell_type": "code",
   "execution_count": null,
   "metadata": {},
   "outputs": [
    {
     "name": "stdout",
     "output_type": "stream",
     "text": [
      "Minimum valid cost:  -33.94322461620416\n"
     ]
    }
   ],
   "source": [
    "min_valid_cost = cost_array_non_violated.min()\n",
    "print(\"Minimum valid cost: \",min_valid_cost)"
   ]
  },
  {
   "cell_type": "code",
   "execution_count": null,
   "metadata": {},
   "outputs": [
    {
     "data": {
      "text/plain": [
       "(array([36, 36, 36, 36, 36, 36, 36]), array([64, 65, 66, 67, 68, 69, 70]))"
      ]
     },
     "metadata": {},
     "output_type": "display_data"
    }
   ],
   "source": [
    "index = np.where(cost_array_non_violated == cost_array_non_violated.min())\n",
    "index\n",
    "# Hence multiple points with the same value satisfy the minimum"
   ]
  },
  {
   "cell_type": "code",
   "execution_count": null,
   "metadata": {},
   "outputs": [
    {
     "data": {
      "text/plain": [
       "array([-0.12559138, -0.12559138, -0.12559138, -0.12559138, -0.12559138,\n",
       "       -0.12559138, -0.12559138])"
      ]
     },
     "metadata": {},
     "output_type": "display_data"
    }
   ],
   "source": [
    "const_violation[index]"
   ]
  },
  {
   "cell_type": "code",
   "execution_count": null,
   "metadata": {},
   "outputs": [],
   "source": [
    "# they also have the same constraint violation value as well"
   ]
  },
  {
   "cell_type": "markdown",
   "metadata": {},
   "source": [
    "so the optimal points are t1 = 0.36, t2=[0.64-0.70]"
   ]
  },
  {
   "cell_type": "code",
   "execution_count": null,
   "metadata": {},
   "outputs": [
    {
     "name": "stdout",
     "output_type": "stream",
     "text": [
      "Relative suboptimality percentage is:  1.8690144434418137\n"
     ]
    }
   ],
   "source": [
    "sub_opt = np.abs(min_valid_cost - L) / np.abs(L)*100\n",
    "print(\"Relative suboptimality percentage is: \",sub_opt)"
   ]
  },
  {
   "cell_type": "code",
   "execution_count": null,
   "metadata": {},
   "outputs": [],
   "source": []
  },
  {
   "cell_type": "markdown",
   "metadata": {},
   "source": [
    "## Exercise 1 - Boolean linear program* (LP)"
   ]
  },
  {
   "cell_type": "markdown",
   "metadata": {},
   "source": [
    "In a *Boolean linear program* (LP), the variable $x$ is constrained to have components equal to zero or one\n",
    "\n",
    "$$\n",
    "\\begin{array}{ll}\n",
    "\\displaystyle \\min_{x} &  c^\\top x \\\\ \n",
    "\\text{s.t. } & Ax \\preccurlyeq b,\\\\\n",
    "& x_i\\in \\{0, 1\\}, \\qquad i = 1, \\dots, n.\\tag{1}\n",
    "\\end{array}\n",
    "$$\n",
    "\n",
    "You can think of $x_i$ as a job we either accept or decline, and $−c_i$ as the (positive) revenue we generate if we accept job $i$. We can think of $Ax \\preccurlyeq b$ as a set of limits on $m$ resources. $A_{ij}$, which is positive, is the amount of resource $i$ consumed if we accept\n",
    "job $j$; $b_i$, which is positive, is the amount of resource $i$ available.\n",
    "\n",
    "In general, such problems are very difficult to solve, even though the feasible set is finite (containing at most $2^n$ points).\n",
    "\n",
    "A standard approximation method to solve a Boolean LP is the so-called *relaxation*: the constraint that $x_i$ must be zero or one is replaced with the linear inequalities $0 \\le x_i \\le 1$, namely\n",
    "\n",
    "$$\n",
    "\\begin{array}{ll}\n",
    "\\displaystyle \\min_{x} &  c^\\top x \\\\ \n",
    "\\text{s.t. } & Ax \\preccurlyeq b,\\\\\n",
    "& 0 \\le x_i \\le 1, \\qquad i = 1, \\dots, n. \\tag{2}\n",
    "\\end{array}\n",
    "$$\n",
    "\n",
    "We refer to this problem as the *LP relaxation* of the Boolean LP $(1)$. The LP relaxation is far easier to solve than the original Boolean LP.\n",
    "\n",
    "We call $p_B^*$ the optimal value of $(1)$ associated to the solution $x_B$ and $p_r^*$ the optimal value of $(2)$ associated to the solution $x_r$."
   ]
  },
  {
   "cell_type": "markdown",
   "metadata": {},
   "source": [
    "The prolem data is generated by the code below."
   ]
  },
  {
   "cell_type": "code",
   "execution_count": null,
   "metadata": {},
   "outputs": [],
   "source": [
    "import cvxpy as cp\n",
    "import numpy as np\n",
    "\n",
    "n = 100\n",
    "m = 300\n",
    "np.random.seed(1)\n",
    "A = np.random.random((m, n)) # positve\n",
    "b = np.dot(A,np.ones(n)/2) # postive\n",
    "c = -np.random.random(n) # negative, so -c is positive\n",
    "\n",
    "# constraints: x elemts are 0 or 1\n",
    "\n",
    "X = cp.Variable((n))\n",
    "\n",
    "objective = cp.Minimize(c.T@X)\n",
    "\n",
    "constraints = [X >= 0,\n",
    "               X <= 1,\n",
    "               A@X <= b]\n",
    "\n",
    "\n",
    "prob = cp.Problem(objective, constraints)"
   ]
  },
  {
   "cell_type": "markdown",
   "metadata": {},
   "source": [
    "*   What can you say about the Boolean problem $(1)$ if the relaxation $(2)$ is infeasible?\n",
    "*   Explain why $p_r^*$ is a lower bound on $p_B^*$.\n",
    "*   If the solution of the LP relaxation is such that $x_{r,i}\\in \\{0,1\\}$ for all $i$, what can you say in this case?\n",
    "*   Find a solution in CVXPY of the relaxed problem and examine its entries. Note the associated lower bound as $L = p_r^*$."
   ]
  },
  {
   "cell_type": "markdown",
   "metadata": {},
   "source": [
    "- Not sure\n",
    "- The set of possible x values for Pr includes all the x values for pB, so it should at least produce a cost that is as low as pB.\n",
    "- If we solve the boolean problem in an iterative way we will get the exact same optimal solution\n",
    "- The associate dlower bounds are just below 1 and above 0"
   ]
  },
  {
   "cell_type": "markdown",
   "metadata": {},
   "source": [
    "## Solution 1"
   ]
  },
  {
   "cell_type": "code",
   "execution_count": null,
   "metadata": {},
   "outputs": [
    {
     "data": {
      "text/plain": [
       "-34.58971131665731"
      ]
     },
     "metadata": {},
     "output_type": "display_data"
    }
   ],
   "source": [
    "prob.solve(verbose=False)"
   ]
  },
  {
   "cell_type": "code",
   "execution_count": null,
   "metadata": {},
   "outputs": [
    {
     "name": "stdout",
     "output_type": "stream",
     "text": [
      "Optimal var\n",
      "[3.60295132e-01 1.00000000e+00 1.00000000e+00 4.49473528e-11\n",
      " 1.90575989e-10 9.99999999e-01 1.00000000e+00 9.99999999e-01\n",
      " 7.18064238e-01 1.00000000e+00 1.00000000e+00 2.29510781e-11\n",
      " 1.00000000e+00 3.55053323e-01 4.70871483e-11 6.85262503e-10\n",
      " 1.00000000e+00 1.00000000e+00 4.22766073e-11 3.08297135e-11\n",
      " 5.60941273e-01 1.00000000e+00 4.87349178e-11 1.00000000e+00\n",
      " 1.04087904e-09 9.17542453e-11 3.56728966e-01 3.17954389e-01\n",
      " 2.66359164e-11 3.65398259e-01 9.55631966e-11 1.00000000e+00\n",
      " 9.27644951e-11 1.00000000e+00 1.00000000e+00 3.20753966e-01\n",
      " 2.11446887e-11 1.00000000e+00 1.00000000e+00 1.32685550e-10\n",
      " 1.00000000e+00 2.69892732e-01 3.34203561e-10 1.00000000e+00\n",
      " 1.00000000e+00 1.00000000e+00 1.00000000e+00 5.38956578e-11\n",
      " 3.94014073e-11 1.00000000e+00 5.11855266e-11 3.00903181e-11\n",
      " 1.00000000e+00 1.00000000e+00 2.81022405e-11 2.86511580e-11\n",
      " 3.34999405e-11 1.00000000e+00 1.00000000e+00 1.00000000e+00\n",
      " 6.34488659e-01 1.48127731e-01 2.61053444e-11 2.21929899e-11\n",
      " 1.00000000e+00 4.24054361e-11 1.19824775e-10 9.09680897e-01\n",
      " 1.00000000e+00 1.29451900e-10 5.98024343e-11 4.79617140e-10\n",
      " 4.90211697e-01 3.03437615e-09 7.80880962e-01 1.95369262e-01\n",
      " 9.37884185e-11 4.14551753e-11 1.00000000e+00 1.00000000e+00\n",
      " 2.25901251e-11 8.89896721e-11 4.54182065e-11 3.54808586e-11\n",
      " 1.00000000e+00 9.82331519e-11 1.00000000e+00 1.93832730e-11\n",
      " 1.63889574e-10 3.75004500e-11 1.00000000e+00 9.99999996e-01\n",
      " 2.30667710e-01 1.00000000e+00 2.67602882e-11 1.00000000e+00\n",
      " 4.22995100e-11 7.08553592e-01 3.58175699e-11 2.11406188e-10]\n",
      "minimum x values i 1.9383273031174852e-11\n",
      "maximum x values i 0.9999999999798168\n"
     ]
    }
   ],
   "source": [
    "print(\"Optimal var\")\n",
    "print(X.value)\n",
    "print(\"minimum x values i\", X.value.min())\n",
    "print(\"maximum x values i\", X.value.max())"
   ]
  },
  {
   "cell_type": "markdown",
   "metadata": {},
   "source": []
  },
  {
   "cell_type": "markdown",
   "metadata": {},
   "source": [
    "## Exercise 2"
   ]
  },
  {
   "cell_type": "markdown",
   "metadata": {},
   "source": [
    "This exercise is a follow up to Exercise $1$. We use the same notation and data.\n",
    "\n",
    "The relaxed solution $x_r$ can be used to guess a Boolean point $\\hat x$ by rounding its entries based on a threshold $t \\in [0,1]$:\n",
    "\n",
    "$$\n",
    "\\hat x_i = \\left\\{ \\begin{array}{ll} 1 & x_r \\ge t \\\\ 0 & \\text{otherwise} \\end{array} \\right.\n",
    "$$\n",
    "\n",
    "for $i = 1,\\dots, n$. If $\\hat x$ is feasible for the Boolean problem $(1)$, i.e., if $A\\hat x \\preccurlyeq b$, then it can be considered a guess at a good point for the Boolean problem. Its objective value, $U = c^\\top \\hat{x}$, is an upper bound on $p_B^*$. If $U$ and $L$ are close, then $\\hat{x}$ is nearly optimal; specifically, $\\hat{x}$ cannot be more than\n",
    "$(U − L)$-suboptimal for the Boolean problem."
   ]
  },
  {
   "cell_type": "markdown",
   "metadata": {},
   "source": [
    "Carry out threshold rounding for $100$ values of $t$, uniformly spaced over\n",
    "$[0, 1]$. \n",
    "\n",
    "*    For each value of $t$, note the objective value $c^\\top \\hat{x}$ and the maximum constraint violation $\\max_i(A\\hat{x} − b)_i$. Plot the objective value and the maximum violation versus $t$. Be sure to indicate (e.g. with two colours) on the plot the values for which $\\hat x$ is feasible, and those for which it is not.\n",
    "*    Find all values of $t$ for which $\\hat{x}$ is feasible and gives minimum objective value, and note the associated upper bound $U$. Give the gap $U − L$ between the upper bound on $p_B^*$ and the lower bound on $p_B^*$. Compute the relative suboptimality percentage as $\\frac{|U-L|}{|L|} \\times 100$."
   ]
  },
  {
   "cell_type": "code",
   "execution_count": null,
   "metadata": {},
   "outputs": [],
   "source": [
    "X= X.value"
   ]
  },
  {
   "cell_type": "code",
   "execution_count": null,
   "metadata": {},
   "outputs": [],
   "source": [
    "x = X.copy()\n",
    "cost_array = np.zeros(n)\n",
    "const_violation = np.zeros(n)\n",
    "for i in range(100):\n",
    "  t = i/100\n",
    "  x_temp = np.where(x>=t,1,0)\n",
    "  cost_array[i] = np.matmul(c.T,x_temp)\n",
    "  const_violation[i] = np.max(np.matmul(A,x_temp) -b)\n"
   ]
  },
  {
   "cell_type": "code",
   "execution_count": null,
   "metadata": {},
   "outputs": [],
   "source": [
    "feasible = const_violation < 0"
   ]
  },
  {
   "cell_type": "code",
   "execution_count": null,
   "metadata": {},
   "outputs": [
    {
     "data": {
      "text/plain": [
       "100"
      ]
     },
     "metadata": {},
     "output_type": "display_data"
    }
   ],
   "source": [
    "n"
   ]
  },
  {
   "cell_type": "code",
   "execution_count": null,
   "metadata": {},
   "outputs": [
    {
     "data": {
      "text/plain": [
       "Text(0.5, 1.0, 'Constraint violation versus threshold')"
      ]
     },
     "metadata": {},
     "output_type": "display_data"
    },
    {
     "data": {
      "image/png": "[encoded data removed]",
      "text/plain": [
       "<Figure size 720x360 with 2 Axes>"
      ]
     },
     "metadata": {},
     "output_type": "display_data"
    }
   ],
   "source": [
    "import matplotlib.pyplot as plt\n",
    "t = np.linspace(0,0.99,n)\n",
    "fig,ax = plt.subplots(2,figsize=(10, 5))\n",
    "fig.tight_layout()\n",
    "\n",
    "ax[0].plot(t,cost_array, label=\"Cost\")\n",
    "##ax[0].scatter(t,cost_array, c= feasible,label=\"Cost\")\n",
    "\n",
    "ax[0].set_title(\"Cost versus threshold\")\n",
    "ax[1].plot(t,const_violation, label = \"Constraint violation \")\n",
    "ax[1].set_title(\"Constraint violation versus threshold\")\n"
   ]
  },
  {
   "cell_type": "code",
   "execution_count": null,
   "metadata": {},
   "outputs": [
    {
     "data": {
      "text/plain": [
       "Text(0.5, 1.0, 'Constraint violation versus threshold')"
      ]
     },
     "metadata": {},
     "output_type": "display_data"
    },
    {
     "data": {
      "image/png": "[encoded data removed]",
      "text/plain": [
       "<Figure size 720x360 with 2 Axes>"
      ]
     },
     "metadata": {},
     "output_type": "display_data"
    }
   ],
   "source": [
    "\n",
    "fig,ax = plt.subplots(2,figsize=(10, 5))\n",
    "fig.tight_layout()\n",
    "ax[0].scatter(t,cost_array, c= feasible,label=\"Cost\")\n",
    "ax[0].set_title(\"Cost versus threshold\")\n",
    "ax[1].scatter(t,const_violation, c=feasible, label = \"Constraint violation \")\n",
    "ax[1].set_title(\"Constraint violation versus threshold\")"
   ]
  },
  {
   "cell_type": "code",
   "execution_count": null,
   "metadata": {},
   "outputs": [],
   "source": [
    "t_feasible = t[np.where(feasible==True)]\n",
    "cost_feasible = cost_array[np.where(feasible==True)]\n",
    "upper_bound = cost_feasible[0]\n",
    "lower_bound = prob.value\n",
    "suboptimality_percentage = np.abs(upper_bound - lower_bound) / np.abs(lower_bound) *100"
   ]
  },
  {
   "cell_type": "code",
   "execution_count": null,
   "metadata": {},
   "outputs": [
    {
     "name": "stdout",
     "output_type": "stream",
     "text": [
      "Upper bound: -33.88368852196696\n",
      "Lower bound: -34.58971131665731\n",
      "Relatively suboptimal percentage:2.04113526194811% \n"
     ]
    }
   ],
   "source": [
    "print(\"Upper bound:\", upper_bound)\n",
    "print(\"Lower bound:\", lower_bound)\n",
    "print(\"Relatively suboptimal percentage:{}% \".format(suboptimality_percentage ) )\n"
   ]
  },
  {
   "cell_type": "code",
   "execution_count": null,
   "metadata": {},
   "outputs": [
    {
     "name": "stdout",
     "output_type": "stream",
     "text": [
      "Relatively suboptimal percentage:2.04113526194811% \n"
     ]
    }
   ],
   "source": []
  },
  {
   "cell_type": "code",
   "execution_count": null,
   "metadata": {},
   "outputs": [],
   "source": []
  }
 ],
 "metadata": {
  "language_info": {
   "name": "python"
  },
  "orig_nbformat": 4
 },
 "nbformat": 4,
 "nbformat_minor": 2
}
