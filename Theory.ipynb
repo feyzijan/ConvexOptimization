{
 "cells": [
  {
   "cell_type": "markdown",
   "metadata": {},
   "source": [
    "## Exercise 2 - Proof that the probability simplex is convex"
   ]
  },
  {
   "cell_type": "markdown",
   "metadata": {},
   "source": [
    "Recall that a set $C$ is convex if for any $x_1,x_2\\in C$ and any $\\theta$ such that $0\\le \\theta \\le 1$ we have\n",
    "\n",
    "$$\n",
    "\\theta x_1 + (1-\\theta) x_2 \\in C\n",
    "$$\n",
    "\n",
    "Using the definition above prove that the probability simplex, i.e. the set of vectors that satisfy $x \\succeq 0$, $\\mathbf{1}^\\top x = 1$, is convex."
   ]
  },
  {
   "cell_type": "markdown",
   "metadata": {},
   "source": [
    "## Solution 2"
   ]
  },
  {
   "cell_type": "markdown",
   "metadata": {},
   "source": [
    "Let C the probability simplex of dimension $n \\in \\mathbb{N}$\n",
    " \n",
    " \n",
    "Let $(x_1,x_2) \\in C^2$ and $\\theta \\in \\mathbb{R}$ with $ 0\\leq \\theta \\leq 1$\n",
    " \n",
    " \n",
    "Let's show that $x = \\theta * x_1 + (1-\\theta) * x_2 \\in C$\n",
    " \n",
    "First of all, for the element wise property :\n",
    " \n",
    "$ \\forall i \\in [[1,n]],\\ x_i = \\theta * (x_1)_i + (1-\\theta) * (x_2)_i >= 0$ as sum of positive reals. Which proves that $x \\succeq 0$.\n",
    " \n",
    "For the second property:\n",
    " \n",
    "$\\mathbf{1}^\\top x = \\theta * \\mathbf{1}^\\top x_1 + (1-\\theta) * \\mathbf{1}^\\top x_2 = \\theta + (1 - \\theta) = 1$.\n",
    " \n",
    "Both properties are proved hence x is in C and C is convex."
   ]
  },
  {
   "cell_type": "markdown",
   "metadata": {},
   "source": [
    "-------------------"
   ]
  },
  {
   "cell_type": "markdown",
   "metadata": {},
   "source": [
    "## Exercise - Duality"
   ]
  },
  {
   "cell_type": "markdown",
   "metadata": {},
   "source": [
    "Consider the optimisation problem\n",
    "\n",
    "$$\n",
    "\\begin{array}{l}\n",
    "\\displaystyle \\min_{x,y} & e^{-x}\\\\\n",
    "s.t. & \\frac{x^2}{y}\\le 0\\end{array}\\tag{1}\n",
    "$$\n",
    "\n",
    "with variables $x$ and $y$ and domain $\\mathcal{D} = \\{(x,y): y >0\\}$."
   ]
  },
  {
   "cell_type": "markdown",
   "metadata": {},
   "source": [
    "\n",
    "\n",
    "1.   Justify why this is a convex optimisation problem.\n",
    "2.   Find the feasibility set and the optimal value of the problem.\n",
    "3.   Give the Lagrangian.\n",
    "4.   The dual function is (*the derivation from the Lagrangian is skipped because it is challenging*)\n",
    "$$\n",
    "\\displaystyle g(\\lambda) = \\left\\{\\begin{array}{ll}0 & \\lambda \\ge 0,\\\\ -\\infty & \\lambda < 0\\end{array}\\right.\n",
    "$$\n",
    "Write the dual problem.\n",
    "5.   Compute the dual optimal value and the duality gap.\n",
    "6.   Explain why the duality gap is not zero.\n",
    "7.   (*Hard*) In part 4 the dual function is given because its derivation is difficult. Using the Lagrangian obtained in part 3, attempt to prove that the dual function is the one given in part 4. (*Tip: split the analysis in two cases: $\\lambda \\ge 0$ and $\\lambda < 0$*).\n",
    "8.   (*Hard*) Consider the optimal value $p^*(u)$ of the perturbed problem \n",
    "$$\n",
    "\\begin{array}{l}\n",
    "\\displaystyle  \\min_{x,y} & e^{-x}\\\\\n",
    "s.t. & \\frac{x^2}{y}\\le u\\end{array}\n",
    "$$\n",
    "Verify that for $u=1$ and $\\lambda^*=0$ the global sensitivity inequality\n",
    "$$\n",
    "p^*(u) \\ge p^*(0) - \\lambda^* u\n",
    "$$\n",
    "does not hold.\n"
   ]
  },
  {
   "cell_type": "code",
   "execution_count": null,
   "metadata": {
    "vscode": {
     "languageId": "plaintext"
    }
   },
   "outputs": [],
   "source": []
  }
 ],
 "metadata": {
  "language_info": {
   "name": "python"
  },
  "orig_nbformat": 4
 },
 "nbformat": 4,
 "nbformat_minor": 2
}
