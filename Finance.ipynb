{
 "cells": [
  {
   "cell_type": "markdown",
   "metadata": {},
   "source": [
    "Imports"
   ]
  },
  {
   "cell_type": "code",
   "execution_count": null,
   "metadata": {},
   "outputs": [],
   "source": [
    "import numpy as np\n",
    "import cvxpy as cp"
   ]
  },
  {
   "cell_type": "markdown",
   "metadata": {},
   "source": [
    "## Exercise 1 - Investment Returns"
   ]
  },
  {
   "cell_type": "markdown",
   "metadata": {},
   "source": [
    "Two investments are made, with random returns $R_1$ and $R_2$. The total return for the two investments is $R_1 + R_2$, and the probability of a loss (including breaking even, i.e., $R_1+R_2=0$) is $p^{loss} = \\textbf{prob}(R_1 + R_2 \\le 0)$. The goal is to find the worst-case (i.e., maximum possible) value of $p^{loss}$ consistent with the following information.\n",
    "\n",
    "We discretize the values that $R_1$ and $R_2$ can take to $n=100$ possible values $r_1$, ..., $r_n$, uniformly spaced from $r_1 = -35$ to $r_n = +75$. $R_1$ and $R_2$ are assumed to have Gaussian [marginal distributions](https://en.wikipedia.org/wiki/Marginal_distribution) with known means $\\mu_1$ and $\\mu_2$ and known standard deviations $\\sigma_1$ and $\\sigma_2$. Hence, the discretized marginals $p^{(1)}$ and $p^{(2)}$ for $R_1$ and $R_2$ are given by\n",
    "\n",
    "$$\n",
    "\\displaystyle p_i^{(k)} = \\textbf{prob}(R_k = r_i) = \\frac{\\displaystyle e^{ \\frac{-(r_i - \\mu_k)^2}{2\\sigma_k^2}}}{\\displaystyle \\sum_{j=1}^n e^{ \\frac{-(r_j - \\mu_k)^2}{2\\sigma_k^2}}}\n",
    "$$\n",
    "\n",
    "for $k = 1,2$ and $i = 1, ..., n$. In addition it is known that $R_1$ and $R_2$ are correlated with [correlation coefficient](https://en.wikipedia.org/wiki/Correlation#Pearson's_product-moment_coefficient) $\\rho$, which means that\n",
    "\n",
    "$$\n",
    "\\sum_{i,j} (r_i - \\mu_1) \\cdot \\textbf{prob}(R_1 = r_i , R_2 = r_j) \\cdot (r_j - \\mu_2) = \\rho \\sigma_1 \\sigma_2\n",
    "$$\n",
    "\n",
    "\n",
    "Consider the data $\\mu_1 =9$, $\\mu_2 = 22$, $\\sigma_1 = 7$, $\\sigma_2 = 19$ and $\\rho = -0.35$. \n",
    "\n"
   ]
  },
  {
   "cell_type": "code",
   "execution_count": null,
   "metadata": {},
   "outputs": [],
   "source": [
    "import cvxpy as cp\n",
    "import numpy as np\n",
    "\n",
    "# Data\n",
    "n = 100\n",
    "rmin = -35 \n",
    "rmax = 75\n",
    "\n",
    "mu1 = 9 \n",
    "mu2 = 22\n",
    "sigma1 = 7 \n",
    "sigma2 = 19\n",
    "rho = -0.35"
   ]
  },
  {
   "cell_type": "markdown",
   "metadata": {},
   "source": [
    "Formulate the problem as a convex optimisation problem and solve it."
   ]
  },
  {
   "cell_type": "markdown",
   "metadata": {},
   "source": [
    "## Solution 1\n"
   ]
  },
  {
   "cell_type": "code",
   "execution_count": null,
   "metadata": {},
   "outputs": [],
   "source": [
    "# Maximum ploss corresponds to minimum pwin(R1 + R2 > 0)\n",
    "#Generate likelihood matrices for R1 and R2\n",
    "\n",
    "x = np.linspace(rmin,rmax,n)\n",
    "p1 = np.exp(-((x-mu1)**2)/(2*sigma1**2))\n",
    "p2 = np.exp(-((x-mu2)**2)/(2*sigma2**2))\n",
    "\n",
    "p1 = p1/p1.sum()\n",
    "p2 = p2/p2.sum()\n",
    "\n",
    "# This is our R1 + R2 matrix \n",
    "X = np.zeros((n,n))\n",
    "for i in range(n):\n",
    "  for k in range(n):\n",
    "    X[i][k] = x[i] +x[k]\n",
    "\n"
   ]
  },
  {
   "cell_type": "code",
   "execution_count": null,
   "metadata": {},
   "outputs": [],
   "source": [
    "# constraint is  = \n",
    "b = np.nonzero(X<=0) # index of nonzero elements \n",
    "\n",
    "P = cp.Variable((n,n))\n",
    "\n",
    "objective = cp.Maximize(cp.sum(P[b]))\n",
    "\n",
    "constraints = [(x-mu1) @ P @(x-mu2) == sigma1*sigma2*rho\n",
    "               ,cp.sum(P) == 1\n",
    "               ,P >= 0\n",
    "              ,cp.sum(P,1) == p1\n",
    "               ,cp.sum(P,0) == p2\n",
    "\n",
    "               ]\n",
    "\n",
    "# every p is bigger than zero\n",
    "\n",
    "prob = cp.Problem(objective,constraints)\n",
    "\n"
   ]
  },
  {
   "cell_type": "code",
   "execution_count": null,
   "metadata": {},
   "outputs": [
    {
     "name": "stdout",
     "output_type": "stream",
     "text": [
      "===============================================================================\n",
      "                                     CVXPY                                     \n",
      "                                     v1.2.3                                    \n",
      "===============================================================================\n",
      "(CVXPY) Jan 27 12:08:45 PM: Your problem has 10000 variables, 5 constraints, and 0 parameters.\n",
      "(CVXPY) Jan 27 12:08:45 PM: It is compliant with the following grammars: DCP, DQCP\n",
      "(CVXPY) Jan 27 12:08:45 PM: (If you need to solve this problem multiple times, but with different data, consider using parameters.)\n",
      "(CVXPY) Jan 27 12:08:45 PM: CVXPY will first compile your problem; then, it will invoke a numerical solver to obtain a solution.\n",
      "-------------------------------------------------------------------------------\n",
      "                                  Compilation                                  \n",
      "-------------------------------------------------------------------------------\n",
      "(CVXPY) Jan 27 12:08:45 PM: Compiling problem (target solver=ECOS).\n",
      "(CVXPY) Jan 27 12:08:45 PM: Reduction chain: FlipObjective -> Dcp2Cone -> CvxAttr2Constr -> ConeMatrixStuffing -> ECOS\n",
      "(CVXPY) Jan 27 12:08:45 PM: Applying reduction FlipObjective\n",
      "(CVXPY) Jan 27 12:08:45 PM: Applying reduction Dcp2Cone\n",
      "(CVXPY) Jan 27 12:08:45 PM: Applying reduction CvxAttr2Constr\n",
      "(CVXPY) Jan 27 12:08:45 PM: Applying reduction ConeMatrixStuffing\n",
      "(CVXPY) Jan 27 12:08:45 PM: Applying reduction ECOS\n",
      "(CVXPY) Jan 27 12:08:45 PM: Finished problem compilation (took 6.580e-02 seconds).\n",
      "-------------------------------------------------------------------------------\n",
      "                                Numerical solver                               \n",
      "-------------------------------------------------------------------------------\n",
      "(CVXPY) Jan 27 12:08:45 PM: Invoking solver ECOS  to obtain a solution.\n",
      "-------------------------------------------------------------------------------\n",
      "                                    Summary                                    \n",
      "-------------------------------------------------------------------------------\n",
      "(CVXPY) Jan 27 12:08:46 PM: Problem status: optimal\n",
      "(CVXPY) Jan 27 12:08:46 PM: Optimal value: 1.893e-01\n",
      "(CVXPY) Jan 27 12:08:46 PM: Compilation took 6.580e-02 seconds\n",
      "(CVXPY) Jan 27 12:08:46 PM: Solver (including time spent in interface) took 2.255e-01 seconds\n"
     ]
    },
    {
     "data": {
      "text/plain": [
       "0.18928791828101693"
      ]
     },
     "metadata": {},
     "output_type": "display_data"
    }
   ],
   "source": [
    "prob.solve(verbose=True)"
   ]
  },
  {
   "cell_type": "code",
   "execution_count": null,
   "metadata": {},
   "outputs": [
    {
     "data": {
      "text/plain": [
       "(100,)"
      ]
     },
     "metadata": {},
     "output_type": "display_data"
    }
   ],
   "source": [
    "(x-mu1).shape"
   ]
  },
  {
   "cell_type": "markdown",
   "metadata": {},
   "source": [
    "----------------------"
   ]
  },
  {
   "cell_type": "markdown",
   "metadata": {},
   "source": [
    "## Exercise - Portfolio Optimization"
   ]
  },
  {
   "cell_type": "markdown",
   "metadata": {},
   "source": [
    "The classical Markowitz portfolio optimisation problem is\n",
    "naturally expressed as a bi-criterion minimisation problem, where the objectives are the negative mean return (since we wish to maximize mean return) and the variance of the return\n",
    "\n",
    "$$\n",
    "\\begin{array}{ll}\n",
    "\\min & (-\\bar{p}^\\top x,x^\\top \\Sigma x )\\\\\n",
    "s.t. & \\mathbf{1}^\\top x =1, \\\\ &x\\succeq 0.\\end{array}\n",
    "$$\n",
    "\n",
    "where $\\bar{p}$ is the price mean and $\\Sigma$ is the covariance. The two constraints express that $x$ indicates the normalised fraction of investement put into each asset (so the components of $x$ must sum to $1$) and the fact that we do not allow negative investments, called *shorts*. We scalarize the problem using the parameter $\\lambda$\n",
    "\n",
    "$$\n",
    "\\begin{array}{ll}\n",
    "\\min & -\\bar{p}^\\top x + \\lambda x^\\top \\Sigma x \\\\\n",
    "s.t. & \\mathbf{1}^\\top x =1, \\\\ &x\\succeq 0\\end{array}\n",
    "$$\n",
    "\n",
    "The parameter $\\lambda>0$ is called *risk aversion parameter*. The objective $-\\bar{p}^\\top x + \\lambda x^\\top \\Sigma x$ is called *risk-adjusted return*."
   ]
  },
  {
   "cell_type": "markdown",
   "metadata": {},
   "source": [
    "Consider a simple portfolio optimization problem with\n",
    "$4$ assets, with price mean and covariance given in the code below."
   ]
  },
  {
   "cell_type": "code",
   "execution_count": null,
   "metadata": {},
   "outputs": [],
   "source": [
    "import numpy as np\n",
    "import cvxpy as cp\n",
    "n = 4\n",
    "bar_p = np.array([0.12,0.1,0.07,0.03])\n",
    "Sigma = np.zeros((n,n))\n",
    "Sigma[0,0]=0.2*0.2\n",
    "Sigma[1,1]=0.1*0.1\n",
    "Sigma[2,2]=0.05*0.05\n",
    "Sigma[3,3]=0"
   ]
  },
  {
   "cell_type": "markdown",
   "metadata": {},
   "source": [
    "Note that asset $4$ is risk-free with certain $3\\%$ return. The other assets have incresing return, ranging from $7\\%$ to $12\\%$, as well as increasing risk, ranging from $5\\%$ to $20\\%$."
   ]
  },
  {
   "cell_type": "markdown",
   "metadata": {},
   "source": [
    "1.    Construct the Pareto optimal curve for $\\lambda \\in [0.01,1000]$ (use a logarithmic spacing with $100$ points). The plot should have $\\bar{p}^\\top x_{opt}$ (mean return) on the $y$ axis and $\\sqrt{x_{opt}^\\top \\Sigma x_{opt}}$ (standard deviation) on the $x$ axis. \n",
    "2.    Explain the meaning of the left-most point of the Pareto optimal curve.\n",
    "3.    Explain the meaning of the right-most point of the Pareto optimal curve.\n",
    "4.    For each of the following points ($+/- 0.001$) in the plot, establish and explain whether they are optimal, non-optimal or infeasible: \n",
    "    *    Standard deviation: $0.1$, Mean return: $0.108$\n",
    "    *    Standard deviation: $0.05$, Mean return: $0.12$\n",
    "    *    Standard deviation: $0.12$, Mean return: $0.05$"
   ]
  },
  {
   "cell_type": "markdown",
   "metadata": {},
   "source": [
    "## Solution"
   ]
  },
  {
   "cell_type": "code",
   "execution_count": null,
   "metadata": {},
   "outputs": [],
   "source": [
    "lambdas =  np.logspace(-2, 3, num=100, base=10)"
   ]
  },
  {
   "cell_type": "code",
   "execution_count": null,
   "metadata": {},
   "outputs": [
    {
     "data": {
      "image/png": "[encoded data removed]",
      "text/plain": [
       "<Figure size 432x288 with 1 Axes>"
      ]
     },
     "metadata": {},
     "output_type": "display_data"
    }
   ],
   "source": [
    "results = []\n",
    "stds = []\n",
    "\n",
    "for i in range(100):\n",
    "  l = lambdas[i]\n",
    "  x = cp.Variable(n)\n",
    "  #obj = cp.Minimize((-(bar_p.T@x) + l* (x.T@Sigma@x)) )\n",
    "  obj = cp.Minimize(-bar_p @ x + l * cp.quad_form(x, Sigma))\n",
    "\n",
    "  constraints = [ x >= 0,\n",
    "                cp.sum(x) == 1]\n",
    "\n",
    "  prob = cp.Problem(obj, constraints)\n",
    "\n",
    "  prob.solve(verbose=False)\n",
    "\n",
    "  #results.append(-prob.value)\n",
    "  results.append(bar_p @ x.value)\n",
    "  stds.append(np.sqrt(x.value.T @ Sigma @ x.value))\n",
    "\n",
    "import matplotlib.pyplot as plt\n",
    "plt.plot(stds, results)\n",
    "plt.xlabel('Standard Deviation')\n",
    "plt.ylabel('Mean Return')\n",
    "\n",
    "# points in q4\n",
    "new_stds = [0.1,0.05,0.12]\n",
    "new_returns = [0.108,0.12,0.05]\n",
    "plt.scatter(new_stds,new_returns,c='r')\n",
    "\n",
    "plt.show()\n",
    "\n"
   ]
  },
  {
   "cell_type": "markdown",
   "metadata": {},
   "source": [
    "2- The maximum return we can get for taking no risk i.e. when we have very high risk aversion (highest lambda)\n",
    "\n",
    "\n",
    "3- The maximum return we can get for taking the highest amount of risk, i.e. when we have very low risk aversion ( lowest lambda)\n"
   ]
  },
  {
   "cell_type": "markdown",
   "metadata": {},
   "source": [
    "4-\n",
    "Standard deviation: 0.1, Mean return: 0.108\n",
    "- This point is pareto optimal because we can not increase our return without increasing our risk\n",
    "\n",
    "Standard deviation: 0.05, Mean return: 0.12\n",
    "- This point is not pareto optimal because it is not feasible\n",
    "\n",
    "Standard deviation: 0.12, Mean return:  0.05\n",
    "- This point is not pareto optimal because for the same risk we can get a higher return by moving vertically up the plot, and we can get a lower risk for the same return by moving horizontally left to the pareto curve\n"
   ]
  },
  {
   "cell_type": "code",
   "execution_count": null,
   "metadata": {},
   "outputs": [
    {
     "name": "stdout",
     "output_type": "stream",
     "text": [
      "0.12\n",
      "0.2\n"
     ]
    }
   ],
   "source": [
    "l = 0.01\n",
    "x = cp.Variable(n)\n",
    "#obj = cp.Minimize((-(bar_p.T@x) + l* (x.T@Sigma@x)) )\n",
    "obj = cp.Minimize(-bar_p @ x + l * cp.quad_form(x, Sigma))\n",
    "\n",
    "constraints = [ x >= 0,\n",
    "              cp.sum(x) == 1]\n",
    "\n",
    "prob = cp.Problem(obj, constraints)\n",
    "\n",
    "prob.solve(verbose=False)\n",
    "\n",
    "#results.append(-prob.value)\n",
    "print(bar_p @ x.value)\n",
    "print(np.sqrt(x.value.T @ Sigma @ x.value))"
   ]
  },
  {
   "cell_type": "markdown",
   "metadata": {},
   "source": [
    "## Exercise 2 - Risk Free Option Pricing"
   ]
  },
  {
   "cell_type": "markdown",
   "metadata": {},
   "source": [
    "In this problem we use the methods and results of Example 5.10 of $[1]$ to give bounds on the arbitrage-free price of an option (see also Exercise 5.38 of $[1]$ for more details). We will use all the notation and definitions from Example 5.10 of $[1]$.\n",
    "\n",
    "We consider here options on an underlying asset (such as a stock); these have a payoff or value that depends on $S$, the value of the underlying asset at the end of the investment period. We will assume that the underying asset can only take on $m$ different values, $S^{(1)}$, ... $S^{(m)}$. These correspond to the $m$ possible scenarios or outcomes described in Example 5.10.\n",
    "\n"
   ]
  },
  {
   "cell_type": "markdown",
   "metadata": {},
   "source": [
    "A risk-free asset has value $r>1$ in every scenario.\n",
    "\n",
    "A *put option* at *strike price* $K$ gives the owner the right to sell one unit of the underlying stock at price $K$. At the end of the investment period, if the stock is trading at a price $S$, then the put option has payoff $(K-S)_+ = \\max\\{K-S,0\\}$ (since the option is exercised only if $K>S$). Similarly a *call option* at strike price $K$ gives the buyer the right to buy a unit of stock at price $K$. A call option has payoff $(S-K)_+ = \\max\\{S-K,0\\}$.\n",
    "\n",
    "A collar is an option with payoff\n",
    "$$\n",
    "\\left\\{\\begin{array}{ll}C-S_0, & S>0\\\\ S-S_0, & F \\le S \\le C\\\\F-S_0, & S\\le F\\end{array}\\right.\n",
    "$$\n",
    "\n",
    "where $F$ is the *floor*, $C$ is the *cap* and $S_0$ is the price of the underlying asset at the start of the investment period. This option limits both the upside and downside of payoff.\n",
    "\n"
   ]
  },
  {
   "cell_type": "markdown",
   "metadata": {},
   "source": [
    "Now we consider a specific problem. The price of the risk-free asset, with $r=1.05$, is $1$. The price of the underlying asset is $S_0=1$. We will use $m=200$ scenarios, with $S^{(i)}$ uniformly spaced from $S^{(1)} = 0.5$ to $S^{(200)} = 2$. The following options are traded on an exchange, with prices listed below.\n",
    "\n",
    "$$\n",
    "\\begin{array}{lll}\n",
    "\\text{Type} &\t\\text{Strike} &\t\\text{Price}\\\\\n",
    "\\text{Call} &\t1.1 &\t0.06\\\\\n",
    "\\text{Call} &\t1.2 &\t0.03\\\\\n",
    "\\text{Put} &\t0.8 &\t0.02\\\\\n",
    "\\text{Put} &\t0.7 &\t0.01\\\\\n",
    "\\end{array}\n",
    "$$\n",
    "\n",
    "A collar with floor $F=0.9$ and cap $C=1.15$ is not traded on an exchange. Find the range (lower bound and upper bound) of the prices for this collar, consistent with the absence of arbitrage and the prices given above."
   ]
  },
  {
   "cell_type": "code",
   "execution_count": null,
   "metadata": {},
   "outputs": [],
   "source": [
    "# We define the data of the problem\n",
    "m=200\n",
    "p1=1\n",
    "S0=1\n",
    "r=1.05\n",
    "K1=1.1\n",
    "K2=1.2\n",
    "K3=0.8\n",
    "K4=0.7\n",
    "C=1.15\n",
    "F=0.9\n",
    "\n",
    "p3 = 0.06\n",
    "p4 = 0.03\n",
    "p5 = 0.02\n",
    "p6 = 0.01"
   ]
  },
  {
   "cell_type": "code",
   "execution_count": null,
   "metadata": {},
   "outputs": [],
   "source": [
    "# We compute the matrix V as defined in Exercise 5.10 and the given table\n",
    "S=np.linspace(0.5, 2, num=m)\n",
    "V=np.zeros((m,7))\n",
    "\n",
    "for i in range(m):\n",
    "  if S[i]>C:\n",
    "    collar=C-S0\n",
    "  elif S[i]<=F:\n",
    "    collar=F-S0\n",
    "  else:\n",
    "    collar=S[i]-S0\n",
    "\n",
    "  V[i]=np.array([r,S[i],max(0,S[i]-K1),max(0,S[i]-K2),max(0,K3-S[i]),max(0,K4-S[i]),collar])"
   ]
  },
  {
   "cell_type": "code",
   "execution_count": null,
   "metadata": {},
   "outputs": [],
   "source": [
    "# We define the variables\n",
    "y = cp.Variable(m)\n",
    "p7 = cp.Variable()"
   ]
  },
  {
   "cell_type": "code",
   "execution_count": null,
   "metadata": {},
   "outputs": [
    {
     "name": "stdout",
     "output_type": "stream",
     "text": [
      "The lower bound is 0.0326\n"
     ]
    }
   ],
   "source": [
    "# We solve the problem for the lower bound\n",
    "p = np.array([p1, S0, p3, p4, p5, p6, 0])\n",
    "prob = cp.Problem(cp.Minimize(p7),[V.T@y == p+np.array([0,0,0,0,0,0,1])*p7,y>=0])\n",
    "prob.solve()\n",
    "\n",
    "# Print result.\n",
    "print(\"The lower bound is\",np.round(p7.value,4))"
   ]
  },
  {
   "cell_type": "code",
   "execution_count": null,
   "metadata": {},
   "outputs": [
    {
     "name": "stdout",
     "output_type": "stream",
     "text": [
      "The upper bound is 0.065\n"
     ]
    }
   ],
   "source": [
    "# We solve the problem for the upper bound\n",
    "prob = cp.Problem(cp.Maximize(p7),[V.T@y == p+np.array([0,0,0,0,0,0,1])*p7,y>=0])\n",
    "prob.solve()\n",
    "\n",
    "# Print result.\n",
    "print(\"The upper bound is\",np.round(p7.value,4))"
   ]
  },
  {
   "cell_type": "code",
   "execution_count": null,
   "metadata": {},
   "outputs": [],
   "source": []
  }
 ],
 "metadata": {
  "language_info": {
   "name": "python"
  },
  "orig_nbformat": 4
 },
 "nbformat": 4,
 "nbformat_minor": 2
}
