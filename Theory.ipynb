{
 "cells": [
  {
   "cell_type": "markdown",
   "metadata": {},
   "source": [
    "## Exercise 2 - Proof that the probability simplex is convex"
   ]
  },
  {
   "cell_type": "markdown",
   "metadata": {},
   "source": [
    "Recall that a set $C$ is convex if for any $x_1,x_2\\in C$ and any $\\theta$ such that $0\\le \\theta \\le 1$ we have\n",
    "\n",
    "$$\n",
    "\\theta x_1 + (1-\\theta) x_2 \\in C\n",
    "$$\n",
    "\n",
    "Using the definition above prove that the probability simplex, i.e. the set of vectors that satisfy $x \\succeq 0$, $\\mathbf{1}^\\top x = 1$, is convex."
   ]
  },
  {
   "cell_type": "markdown",
   "metadata": {},
   "source": [
    "## Solution 2"
   ]
  },
  {
   "cell_type": "markdown",
   "metadata": {},
   "source": [
    "Let C the probability simplex of dimension $n \\in \\mathbb{N}$\n",
    " \n",
    " \n",
    "Let $(x_1,x_2) \\in C^2$ and $\\theta \\in \\mathbb{R}$ with $ 0\\leq \\theta \\leq 1$\n",
    " \n",
    " \n",
    "Let's show that $x = \\theta * x_1 + (1-\\theta) * x_2 \\in C$\n",
    " \n",
    "First of all, for the element wise property :\n",
    " \n",
    "$ \\forall i \\in [[1,n]],\\ x_i = \\theta * (x_1)_i + (1-\\theta) * (x_2)_i >= 0$ as sum of positive reals. Which proves that $x \\succeq 0$.\n",
    " \n",
    "For the second property:\n",
    " \n",
    "$\\mathbf{1}^\\top x = \\theta * \\mathbf{1}^\\top x_1 + (1-\\theta) * \\mathbf{1}^\\top x_2 = \\theta + (1 - \\theta) = 1$.\n",
    " \n",
    "Both properties are proved hence x is in C and C is convex."
   ]
  },
  {
   "cell_type": "code",
   "execution_count": null,
   "metadata": {},
   "outputs": [],
   "source": []
  }
 ],
 "metadata": {
  "language_info": {
   "name": "python"
  },
  "orig_nbformat": 4
 },
 "nbformat": 4,
 "nbformat_minor": 2
}
