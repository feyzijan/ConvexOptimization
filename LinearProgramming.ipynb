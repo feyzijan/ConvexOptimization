{
 "cells": [
  {
   "cell_type": "markdown",
   "metadata": {},
   "source": [
    "## Exercise 1"
   ]
  },
  {
   "cell_type": "markdown",
   "metadata": {},
   "source": [
    "Flux balance analysis is based on a very simple model of the reactions going on in a cell, keeping track only of the gross rate of consumption and production of various chemical species within the cell. Based on the known [stoichiometry](https://en.wikipedia.org/wiki/Stoichiometry) of the reactions, and known upper bounds on some of the reaction rates, we can compute bounds on the other reaction rates, or cell growth, for example.\n",
    "\n",
    "We focus on $m$ metabolites in a cell, labeled $M_1$, ..., $M_m$. There are $n$ reactions going on, labeled $R_1$, ..., $R_n$, with nonnegative reaction rates $v_1$, ..., $v_n$. Each reaction has a (known) stoichiometry, which tells us the rate of consumption and production of the metabolites per unit of reaction rate. The stoichiometry data is given by the stoichiometry matrix $S \\in \\mathbb{R}^{m\\times n}$, defined as follows: $S_{ij}$ is the rate of production of $M_i$ due to unit reaction rate $v_j = 1$. Here we consider consumption of a metabolite as negative production; so for example $S_{ij}=-2$ means that reaction $R_j$ causes metabolite $M_i$ to be consumed at a rate $2v_j$.\n",
    "\n",
    "As an example, suppose reaction $R_1$ has the form $M_1 \\to M_2 + 2M_3$. The consumption rate of $M_1$, due to this reaction, is $v_1$; the production rate of $M_2$ is $v_1$; and the production rate of $M_3$ is $2v_1$. The reaction $R_1$ has no effect on metabolites $M_4$, ..., $M_m$. This corresponds to a first column of $S$ of the form $(-1,1,2,0,\\dots,0)$.\n",
    "\n",
    "Reactions are also used to model flow of metabolites into and out of the cell. For example, suppose that reaction $R_2$ corresponds to the flow of metabolite $M_1$ into the cell, with $v_2$ giving the flow rate. This corresponds to a second column of $S$ of the form $(1,0,\\dots,0)$.\n",
    "\n",
    "The last reaction, $R_n$, corresponds to biomass creation, or cell growth, so the reaction rate $v_n$ is the cell growth rate. The last column of $S$ gives the amounts of metabolites used or created per unit of cell growth rate.\n",
    "\n",
    "Since our reactions include metabolites entering or leaving the cell, as well as those converted to biomass within the cell, we have conservation of the metabolites, which can be expressed as $Sv=0$. In addition, we are given upper limits on some of the reaction rates, which we express as $v \\preccurlyeq v^{\\max}$. The goal is to find the maximum possible cell growth rate consistent with the constraints.\n",
    "\n"
   ]
  },
  {
   "cell_type": "markdown",
   "metadata": {},
   "source": [
    "Consider the data"
   ]
  },
  {
   "cell_type": "code",
   "execution_count": null,
   "metadata": {},
   "outputs": [],
   "source": [
    "import cvxpy as cp\n",
    "import numpy as np\n",
    "S = np.array([[1,\t0,\t0,\t0,\t0,\t0],\n",
    "              [-1,\t1,\t0,\t0,\t0,\t0],\n",
    "              [-1,\t0,\t1,\t0,\t0,\t0],\n",
    "              [0,\t-1,\t0,\t2,\t-1,\t0],\n",
    "              [0,\t0,\t0,\t0,\t1,\t0],\n",
    "              [0,\t-2,\t1,\t0,\t0,\t1],\n",
    "              [0,\t0,\t-1,\t1,\t0,\t0],\n",
    "              [0,\t0,\t0,\t0,\t0,\t-1],\n",
    "              [0,\t0,\t0,\t-1,\t0,\t0]]).T\n",
    "\n",
    "vmax = np.array([10.10,100,5.90,100,3.70,100,100,100,100])"
   ]
  },
  {
   "cell_type": "markdown",
   "metadata": {},
   "source": [
    "*    What is the maximum possible cell growth rate $G^*$?\n",
    "*    Which of the reaction rate limits have nonzero optimal Lagrange multipliers? You can find how to obtain the dual variables [here](https://www.cvxpy.org/tutorial/advanced/index.html#dual-variables).\n",
    "*    You will see in the next lecture that the nonzero optimal Lagrange multipliers indicate the constraints towards which the optimal solution is sensitive. The larger the value of the optimal Lagrange multiplier, the larger is the deterioration of the optimal value if the corresponding constraint is made more strict. Which of the reaction rate limits is the maximum growth rate most sensitive to?"
   ]
  },
  {
   "cell_type": "markdown",
   "metadata": {},
   "source": [
    "### Solution Exercise 1"
   ]
  },
  {
   "cell_type": "code",
   "execution_count": null,
   "metadata": {},
   "outputs": [],
   "source": [
    "# We declare the variable, the objective and constraints\n",
    "m = S.shape[0]\n",
    "n = S.shape[1]\n",
    "\n",
    "v = cp.Variable(n)\n",
    "constraints = [S@v == 0, v >= 0, v <= vmax ]\n",
    "obj = v[n-1]"
   ]
  },
  {
   "cell_type": "code",
   "execution_count": null,
   "metadata": {},
   "outputs": [
    {
     "name": "stdout",
     "output_type": "stream",
     "text": [
      "The maximum possible cell growth rate is  13.54999999695169\n"
     ]
    }
   ],
   "source": [
    "# We solve the problem\n",
    "prob = cp.Problem(cp.Maximize(obj),constraints)\n",
    "prob.solve()\n",
    "\n",
    "print(\"The maximum possible cell growth rate is \", prob.value)"
   ]
  },
  {
   "cell_type": "code",
   "execution_count": null,
   "metadata": {},
   "outputs": [
    {
     "name": "stdout",
     "output_type": "stream",
     "text": [
      "Dual variables: [0.5 0.  0.5 0.  1.5 0.  0.  0.  0. ]\n"
     ]
    }
   ],
   "source": [
    "# and find the optimal dual variables\n",
    "print(\"Dual variables:\",np.round(constraints[2].dual_value,2))"
   ]
  },
  {
   "cell_type": "markdown",
   "metadata": {},
   "source": [
    "Only three reactions are limited, namely $R_1$, $R_3$ and $R_5$. All other Lagrange multipliers are zero. The non-zero optimal\n",
    "values are $0.5$, $0.5$, and $1.5$, respectively. So it appears that the limit on reaction $R_5$ is the one that would have the largest effect on the optimal growth rate, for a small change\n",
    "in the limit."
   ]
  },
  {
   "cell_type": "code",
   "execution_count": null,
   "metadata": {},
   "outputs": [],
   "source": []
  },
  {
   "cell_type": "markdown",
   "metadata": {},
   "source": [
    "# Exercise 2"
   ]
  },
  {
   "cell_type": "markdown",
   "metadata": {},
   "source": [
    "This exercise is a continuation of the previous."
   ]
  },
  {
   "cell_type": "markdown",
   "metadata": {},
   "source": [
    "For simplicity, we'll assume that each reaction is controlled by an associated gene, i.e., gene $G_i$ controls reaction $R_i$. Knocking out a set of genes associated with some reactions has the effect of setting the reaction rates (or equivalently, the associated $v^{\\max}$ entries) to zero, which of course reduces the maximum possible growth rate. If the maximum growth rate becomes small enough or zero, it is reasonable to guess that knocking out the set of genes will kill the cell. An *essential gene* is one that when knocked out reduces the maximum growth rate below a given threshold $G^{\\min}$. (Note that $G_n$ is always an essential gene.) A *synthetic lethal* is a pair of non-essential genes that when knocked out reduces the maximum growth rate below the threshold. \n",
    "\n",
    "*    Given the threshold $G^{\\min} = 0.2G^*$, find all essential genes.\n",
    "*    Given the threshold $G^{\\min} = 0.2G^*$, find all the gene pairs which are synthetic lethals."
   ]
  },
  {
   "cell_type": "code",
   "execution_count": null,
   "metadata": {},
   "outputs": [],
   "source": []
  },
  {
   "cell_type": "markdown",
   "metadata": {},
   "source": [
    "### Solution Exercise 2"
   ]
  },
  {
   "cell_type": "code",
   "execution_count": null,
   "metadata": {},
   "outputs": [],
   "source": [
    "Gmin = 0.2 * prob.value"
   ]
  },
  {
   "cell_type": "code",
   "execution_count": null,
   "metadata": {},
   "outputs": [
    {
     "name": "stdout",
     "output_type": "stream",
     "text": [
      "The gene  1  is essential. Gmax is  2.714666078375953e-11\n",
      "The gene  9  is essential. Gmax is  2.994131326743363e-11\n"
     ]
    }
   ],
   "source": [
    "# We solve the same problem but we knock out one gene at the time\n",
    "for i in range(n):\n",
    "  vmax = np.array([10.10,100,5.90,100,3.70,100,100,100,100])\n",
    "  vmax[i]=0\n",
    "  constraints = [S@v == 0, v >= 0, v <= vmax ]\n",
    "  obj = v[n-1]\n",
    "  prob = cp.Problem(cp.Maximize(obj),constraints)\n",
    "  prob.solve()\n",
    "  # We check if the gene is essential\n",
    "  if prob.value < Gmin:\n",
    "    print(\"The gene \", i+1, \" is essential. Gmax is \", prob.value)"
   ]
  },
  {
   "cell_type": "code",
   "execution_count": null,
   "metadata": {},
   "outputs": [
    {
     "name": "stdout",
     "output_type": "stream",
     "text": [
      "The pair  2   3  is synthetic letal. Gmax is  4.907085642708621e-12\n",
      "The pair  2   7  is synthetic letal. Gmax is  1.7217180784949536e-10\n",
      "The pair  4   7  is synthetic letal. Gmax is  5.269891693136436e-11\n",
      "The pair  5   7  is synthetic letal. Gmax is  1.0770330670932224e-11\n"
     ]
    }
   ],
   "source": [
    "# Similar approach, but we check all pairs\n",
    "for i in range(1,8):\n",
    "  for j in range(1,8):\n",
    "    if i<j:\n",
    "      vmax = np.array([10.10,100,5.90,100,3.70,100,100,100,100])\n",
    "      vmax[i]=0\n",
    "      vmax[j]=0\n",
    "      constraints = [S@v == 0, v >= 0, v <= vmax ]\n",
    "      obj = v[n-1]\n",
    "      prob = cp.Problem(cp.Maximize(obj),constraints)\n",
    "      prob.solve()\n",
    "      if prob.value < Gmin:\n",
    "        print(\"The pair \", i+1,\" \",j+1, \" is synthetic letal. Gmax is \", prob.value)"
   ]
  }
 ],
 "metadata": {
  "language_info": {
   "name": "python"
  },
  "orig_nbformat": 4
 },
 "nbformat": 4,
 "nbformat_minor": 2
}
