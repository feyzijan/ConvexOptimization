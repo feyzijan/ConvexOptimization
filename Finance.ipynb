{
 "cells": [
  {
   "cell_type": "markdown",
   "metadata": {},
   "source": [
    "Imports"
   ]
  },
  {
   "cell_type": "code",
   "execution_count": null,
   "metadata": {},
   "outputs": [],
   "source": [
    "import numpy as np\n",
    "import cvxpy as cp"
   ]
  },
  {
   "cell_type": "markdown",
   "metadata": {},
   "source": [
    "## Exercise 1 - Investment Returns"
   ]
  },
  {
   "cell_type": "markdown",
   "metadata": {},
   "source": [
    "Two investments are made, with random returns $R_1$ and $R_2$. The total return for the two investments is $R_1 + R_2$, and the probability of a loss (including breaking even, i.e., $R_1+R_2=0$) is $p^{loss} = \\textbf{prob}(R_1 + R_2 \\le 0)$. The goal is to find the worst-case (i.e., maximum possible) value of $p^{loss}$ consistent with the following information.\n",
    "\n",
    "We discretize the values that $R_1$ and $R_2$ can take to $n=100$ possible values $r_1$, ..., $r_n$, uniformly spaced from $r_1 = -35$ to $r_n = +75$. $R_1$ and $R_2$ are assumed to have Gaussian [marginal distributions](https://en.wikipedia.org/wiki/Marginal_distribution) with known means $\\mu_1$ and $\\mu_2$ and known standard deviations $\\sigma_1$ and $\\sigma_2$. Hence, the discretized marginals $p^{(1)}$ and $p^{(2)}$ for $R_1$ and $R_2$ are given by\n",
    "\n",
    "$$\n",
    "\\displaystyle p_i^{(k)} = \\textbf{prob}(R_k = r_i) = \\frac{\\displaystyle e^{ \\frac{-(r_i - \\mu_k)^2}{2\\sigma_k^2}}}{\\displaystyle \\sum_{j=1}^n e^{ \\frac{-(r_j - \\mu_k)^2}{2\\sigma_k^2}}}\n",
    "$$\n",
    "\n",
    "for $k = 1,2$ and $i = 1, ..., n$. In addition it is known that $R_1$ and $R_2$ are correlated with [correlation coefficient](https://en.wikipedia.org/wiki/Correlation#Pearson's_product-moment_coefficient) $\\rho$, which means that\n",
    "\n",
    "$$\n",
    "\\sum_{i,j} (r_i - \\mu_1) \\cdot \\textbf{prob}(R_1 = r_i , R_2 = r_j) \\cdot (r_j - \\mu_2) = \\rho \\sigma_1 \\sigma_2\n",
    "$$\n",
    "\n",
    "\n",
    "Consider the data $\\mu_1 =9$, $\\mu_2 = 22$, $\\sigma_1 = 7$, $\\sigma_2 = 19$ and $\\rho = -0.35$. \n",
    "\n"
   ]
  },
  {
   "cell_type": "code",
   "execution_count": null,
   "metadata": {},
   "outputs": [],
   "source": [
    "import cvxpy as cp\n",
    "import numpy as np\n",
    "\n",
    "# Data\n",
    "n = 100\n",
    "rmin = -35 \n",
    "rmax = 75\n",
    "\n",
    "mu1 = 9 \n",
    "mu2 = 22\n",
    "sigma1 = 7 \n",
    "sigma2 = 19\n",
    "rho = -0.35"
   ]
  },
  {
   "cell_type": "markdown",
   "metadata": {},
   "source": [
    "Formulate the problem as a convex optimisation problem and solve it."
   ]
  },
  {
   "cell_type": "markdown",
   "metadata": {},
   "source": [
    "## Solution 1\n"
   ]
  },
  {
   "cell_type": "code",
   "execution_count": null,
   "metadata": {},
   "outputs": [],
   "source": [
    "# Maximum ploss corresponds to minimum pwin(R1 + R2 > 0)\n",
    "#Generate likelihood matrices for R1 and R2\n",
    "\n",
    "x = np.linspace(rmin,rmax,n)\n",
    "p1 = np.exp(-((x-mu1)**2)/(2*sigma1**2))\n",
    "p2 = np.exp(-((x-mu2)**2)/(2*sigma2**2))\n",
    "\n",
    "p1 = p1/p1.sum()\n",
    "p2 = p2/p2.sum()\n",
    "\n",
    "# This is our R1 + R2 matrix \n",
    "X = np.zeros((n,n))\n",
    "for i in range(n):\n",
    "  for k in range(n):\n",
    "    X[i][k] = x[i] +x[k]\n",
    "\n"
   ]
  },
  {
   "cell_type": "code",
   "execution_count": null,
   "metadata": {},
   "outputs": [],
   "source": [
    "# constraint is  = \n",
    "b = np.nonzero(X<=0) # index of nonzero elements \n",
    "\n",
    "P = cp.Variable((n,n))\n",
    "\n",
    "objective = cp.Maximize(cp.sum(P[b]))\n",
    "\n",
    "constraints = [(x-mu1) @ P @(x-mu2) == sigma1*sigma2*rho\n",
    "               ,cp.sum(P) == 1\n",
    "               ,P >= 0\n",
    "              ,cp.sum(P,1) == p1\n",
    "               ,cp.sum(P,0) == p2\n",
    "\n",
    "               ]\n",
    "\n",
    "# every p is bigger than zero\n",
    "\n",
    "prob = cp.Problem(objective,constraints)\n",
    "\n"
   ]
  },
  {
   "cell_type": "code",
   "execution_count": null,
   "metadata": {},
   "outputs": [
    {
     "name": "stdout",
     "output_type": "stream",
     "text": [
      "===============================================================================\n",
      "                                     CVXPY                                     \n",
      "                                     v1.2.3                                    \n",
      "===============================================================================\n",
      "(CVXPY) Jan 27 12:08:45 PM: Your problem has 10000 variables, 5 constraints, and 0 parameters.\n",
      "(CVXPY) Jan 27 12:08:45 PM: It is compliant with the following grammars: DCP, DQCP\n",
      "(CVXPY) Jan 27 12:08:45 PM: (If you need to solve this problem multiple times, but with different data, consider using parameters.)\n",
      "(CVXPY) Jan 27 12:08:45 PM: CVXPY will first compile your problem; then, it will invoke a numerical solver to obtain a solution.\n",
      "-------------------------------------------------------------------------------\n",
      "                                  Compilation                                  \n",
      "-------------------------------------------------------------------------------\n",
      "(CVXPY) Jan 27 12:08:45 PM: Compiling problem (target solver=ECOS).\n",
      "(CVXPY) Jan 27 12:08:45 PM: Reduction chain: FlipObjective -> Dcp2Cone -> CvxAttr2Constr -> ConeMatrixStuffing -> ECOS\n",
      "(CVXPY) Jan 27 12:08:45 PM: Applying reduction FlipObjective\n",
      "(CVXPY) Jan 27 12:08:45 PM: Applying reduction Dcp2Cone\n",
      "(CVXPY) Jan 27 12:08:45 PM: Applying reduction CvxAttr2Constr\n",
      "(CVXPY) Jan 27 12:08:45 PM: Applying reduction ConeMatrixStuffing\n",
      "(CVXPY) Jan 27 12:08:45 PM: Applying reduction ECOS\n",
      "(CVXPY) Jan 27 12:08:45 PM: Finished problem compilation (took 6.580e-02 seconds).\n",
      "-------------------------------------------------------------------------------\n",
      "                                Numerical solver                               \n",
      "-------------------------------------------------------------------------------\n",
      "(CVXPY) Jan 27 12:08:45 PM: Invoking solver ECOS  to obtain a solution.\n",
      "-------------------------------------------------------------------------------\n",
      "                                    Summary                                    \n",
      "-------------------------------------------------------------------------------\n",
      "(CVXPY) Jan 27 12:08:46 PM: Problem status: optimal\n",
      "(CVXPY) Jan 27 12:08:46 PM: Optimal value: 1.893e-01\n",
      "(CVXPY) Jan 27 12:08:46 PM: Compilation took 6.580e-02 seconds\n",
      "(CVXPY) Jan 27 12:08:46 PM: Solver (including time spent in interface) took 2.255e-01 seconds\n"
     ]
    },
    {
     "data": {
      "text/plain": [
       "0.18928791828101693"
      ]
     },
     "metadata": {},
     "output_type": "display_data"
    }
   ],
   "source": [
    "prob.solve(verbose=True)"
   ]
  },
  {
   "cell_type": "code",
   "execution_count": null,
   "metadata": {},
   "outputs": [
    {
     "data": {
      "text/plain": [
       "(100,)"
      ]
     },
     "metadata": {},
     "output_type": "display_data"
    }
   ],
   "source": [
    "(x-mu1).shape"
   ]
  }
 ],
 "metadata": {
  "language_info": {
   "name": "python"
  },
  "orig_nbformat": 4
 },
 "nbformat": 4,
 "nbformat_minor": 2
}
