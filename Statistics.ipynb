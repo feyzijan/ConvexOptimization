{
 "cells": [
  {
   "cell_type": "markdown",
   "metadata": {},
   "source": [
    "# Exercise 1 - Maximum Entropy Distribution problem with prior assumptions"
   ]
  },
  {
   "cell_type": "markdown",
   "metadata": {},
   "source": [
    "Consider a random variable $X$ with values in the finite set $\\{\\alpha_1,\\dots,\\alpha_n\\}$. The distribution of $X$ is characterized by $p$, as $\\textbf{prob}(X=\\alpha_k)=p_k$. Clearly $p$ satisfies $p\\succeq 0$, $\\mathbf{1}^\\top p=1$. \n",
    "\n",
    "The so-called *Maximum Entropy Distribution problem with prior assumptions* can be formulated as\n",
    "\n",
    "$$\n",
    "\\begin{array}{ll}\n",
    "\\displaystyle \\max_{p} & -\\sum_{i=1}^n p_i \\log(p_i)\\\\\n",
    "s.t. & p \\in \\mathcal{P}.\n",
    "\\end{array}\n",
    "$$\n",
    "\n",
    "where $\\mathcal{P}$ represents a convex set expressing prior information."
   ]
  },
  {
   "cell_type": "markdown",
   "metadata": {},
   "source": [
    "We consider a set of equidistant points $\\alpha_i$ in the interval $[-1,1]$:"
   ]
  },
  {
   "cell_type": "code",
   "execution_count": null,
   "metadata": {},
   "outputs": [],
   "source": [
    "import cvxpy as cp\n",
    "import numpy as np\n",
    "import matplotlib.pyplot as plt\n",
    "\n",
    "#Data\n",
    "n = 100\n",
    "alpha = np.linspace(-1,1,n)"
   ]
  },
  {
   "cell_type": "markdown",
   "metadata": {},
   "source": [
    "And we assume the following prior information:\n",
    "\n",
    "$$\n",
    "E(X) \\in [-0.1,0.1]\n",
    "$$\n",
    "$$\n",
    "E(X^2) \\in [0.5,0.6]\n",
    "$$\n",
    "$$\n",
    "E(3X^3-2X) \\in [-0.3,-0.2]\n",
    "$$\n",
    "$$\n",
    "\\textbf{prob}(X<0) \\in [0.3,0.4]\n",
    "$$"
   ]
  },
  {
   "cell_type": "markdown",
   "metadata": {},
   "source": [
    "Recall that $E(f(X)) = \\sum_{i} f(\\alpha_i) \\cdot p_i$ and that $\\textbf{prob}(X< 0)$ is given by the Python command `(alpha<0).astype(int)*p`, where `p` is the cp variable."
   ]
  },
  {
   "cell_type": "markdown",
   "metadata": {},
   "source": [
    "1.   Solve the Maximum Entropy Distribution problem with prior information (Hint: it is advised that you use the atomic function [entr](https://www.cvxpy.org/api_reference/cvxpy.atoms.elementwise.html?highlight=entr#cvxpy.atoms.elementwise.entr.entr)). What is the optimal value?\n",
    "2.   Plot $\\textbf{prob}(X = \\alpha_i)$ vs $\\alpha_i$."
   ]
  },
  {
   "cell_type": "markdown",
   "metadata": {},
   "source": [
    "## Solution 1"
   ]
  },
  {
   "cell_type": "code",
   "execution_count": null,
   "metadata": {},
   "outputs": [
    {
     "name": "stdout",
     "output_type": "stream",
     "text": [
      "status: optimal\n",
      "Optimal value 4.386294336261325\n"
     ]
    }
   ],
   "source": [
    "P = cp.Variable(n)\n",
    "\n",
    "objective = cp.Maximize(cp.sum(cp.entr(P)))\n",
    "\n",
    "constraints = [\n",
    "    P >=0,\n",
    "    cp.sum(P) == 1,\n",
    "    cp.sum((alpha @ P)) >= -0.1,\n",
    "    cp.sum((alpha @ P)) <= 0.1,\n",
    "\n",
    "    cp.sum(((alpha**2) @ P)) >= 0.5,\n",
    "    cp.sum(((alpha**2) @ P)) <= 0.6,\n",
    "\n",
    "    cp.sum(((3*(alpha**3)) @ P - 2*alpha@P)) >= -0.3,\n",
    "    cp.sum(((3*(alpha**3)) @ P - 2*alpha@P)) <= -0.2,\n",
    "\n",
    "    cp.sum(((alpha<0).astype(int)@P)) >= 0.3,\n",
    "    cp.sum(((alpha<0).astype(int)@P)) <= 0.4,\n",
    "]\n",
    "\n",
    "prob = cp.Problem(objective,constraints)\n",
    "prob.solve(verbose=False)\n",
    "print(\"status:\", prob.status)\n",
    "print(\"Optimal value\", prob.value)"
   ]
  },
  {
   "cell_type": "code",
   "execution_count": null,
   "metadata": {},
   "outputs": [
    {
     "data": {
      "text/plain": [
       "[<matplotlib.lines.Line2D at 0x7fdf49c19460>]"
      ]
     },
     "metadata": {},
     "output_type": "display_data"
    },
    {
     "data": {
      "image/png": "[encoded data removed]",
      "text/plain": [
       "<Figure size 432x288 with 1 Axes>"
      ]
     },
     "metadata": {},
     "output_type": "display_data"
    }
   ],
   "source": [
    "import matplotlib.pyplot as plt\n",
    "\n",
    "plt.plot(alpha,P.value)"
   ]
  }
 ],
 "metadata": {
  "language_info": {
   "name": "python"
  },
  "orig_nbformat": 4
 },
 "nbformat": 4,
 "nbformat_minor": 2
}
