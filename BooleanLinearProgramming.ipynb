{
 "cells": [
  {
   "cell_type": "code",
   "execution_count": null,
   "metadata": {},
   "outputs": [],
   "source": []
  },
  {
   "cell_type": "markdown",
   "metadata": {},
   "source": [
    "# Exercise - Boolean Linear Program"
   ]
  },
  {
   "cell_type": "markdown",
   "metadata": {},
   "source": [
    "Consider a three-state boolean linear programme\n",
    "\n",
    "$$\n",
    "\\begin{array}{ll}\n",
    "\\displaystyle \\min_{x} &  c^\\top x \\\\ \n",
    "\\text{s.t. } & Ax \\preccurlyeq b,\\\\\n",
    "& x_i\\in \\{0, 0.5, 1\\}, \\qquad i = 1, \\dots, n.\n",
    "\\end{array}\\tag{1}\n",
    "$$\n",
    "\n",
    "where the variable $x$ is constrained to have components equal to zero, half or one. You can think of $x_i$ as a job we can accept (1), subcontract (0.5) or decline (0), and $−c_i$ as the (positive) revenue we generate if we accept or subcontract job $i$. We can think of $Ax \\preccurlyeq b$ as a set of limits on $m$ resources. $A_{ij}$, which is positive, is the amount of resource $i$ consumed if we accept job $j$; If the job is subcontracted we have half the revenues, but we also half the amount of resources spent. $b_i$, which is positive, is the amount of resource $i$ available."
   ]
  },
  {
   "cell_type": "markdown",
   "metadata": {},
   "source": [
    "For your convenience, the relaxation of the problem (i.e. $0 \\le x\\le 1$) is already solved in the code below."
   ]
  },
  {
   "cell_type": "code",
   "execution_count": null,
   "metadata": {},
   "outputs": [],
   "source": [
    "import cvxpy as cp\n",
    "import numpy as np\n",
    "\n",
    "n = 100\n",
    "m = 300\n",
    "np.random.seed(1)\n",
    "A = np.random.random((m, n)) # positve\n",
    "b = np.dot(A,np.ones(n)/2) # postive\n",
    "c = -np.random.random(n) # negative, so -c is positive"
   ]
  },
  {
   "cell_type": "code",
   "execution_count": null,
   "metadata": {},
   "outputs": [
    {
     "name": "stdout",
     "output_type": "stream",
     "text": [
      "\n",
      "The optimal value is -34.589711316657315\n"
     ]
    }
   ],
   "source": [
    "# Define and solve the CVXPY problem.\n",
    "x = cp.Variable(n)\n",
    "prob = cp.Problem(cp.Minimize(c.T@x),[A @ x <= b, x >= 0, x<= 1])\n",
    "prob.solve()\n",
    "\n",
    "# Print result.\n",
    "L=prob.value\n",
    "print(\"\\nThe optimal value is\", prob.value)\n",
    "#print(\"A solution x is\", x.value)"
   ]
  },
  {
   "cell_type": "markdown",
   "metadata": {},
   "source": [
    "1.   Explain how you would develop a threshold rounding for this problem.\n",
    "2.   Carry out threshold rounding. For each value of of the threshold(s), note the objective value $c^\\top \\hat{x}$ and the maximum constraint violation $\\max_i(A\\hat{x} − b)_i$. \n",
    "3.   Find the minimum feasible objective value and note it as the upper bound $U$. Compute the relative suboptimality percentage as $\\frac{|U-L|}{|L|} \\times 100$."
   ]
  },
  {
   "cell_type": "markdown",
   "metadata": {},
   "source": [
    "## Solution"
   ]
  },
  {
   "cell_type": "markdown",
   "metadata": {},
   "source": [
    "1- I would create a meshgrid of t1, and t2, where both t1 and t2 range between 0 and 1 and take 100 unique values each, hence the meshgrid has 10000 element.s\n",
    "Round x <t1 to 0, t1<=x<=t2 to 0.5, and t2<x to 1\n",
    "I then calculate the cost and constraint vialation for each, and pick the threshold that with the lowest cost that satisfies the constraint\n",
    "- Below I used for loops for t1 and t2 rather than creating a meshgrid, but its practically the same"
   ]
  },
  {
   "cell_type": "code",
   "execution_count": null,
   "metadata": {},
   "outputs": [],
   "source": [
    "X = x.value\n",
    "cost_array = np.zeros((n,n))\n",
    "cost_array_non_violated = np.zeros((n,n))\n",
    "cost_array_violated = np.zeros((n,n))\n",
    "const_violation = np.zeros((n,n))\n",
    "\n",
    "for i in range(n):\n",
    "  t1 = i/n\n",
    "  for k in range(n):\n",
    "    t2 = k/n\n",
    "\n",
    "    x_temp = X.copy()\n",
    "\n",
    "    arr1 = np.where(X<=t1)\n",
    "    arr2 = np.where((X>t1) & (X<t2))\n",
    "    arr3 = np.where(X>=t2)\n",
    "    \n",
    "    x_temp[arr1] = 0\n",
    "    x_temp[arr2] = 0.5\n",
    "    x_temp[arr3] = 1\n",
    "    \n",
    "    const_violation[i][k] = np.max(np.matmul(A,x_temp) -b)\n",
    "    cost_array[i][k] = np.matmul(c.T,x_temp)\n",
    "\n",
    "    if(np.max(np.matmul(A,x_temp) -b) > 0):\n",
    "      cost_array_violated[i][k] = np.matmul(c.T,x_temp)\n",
    "    else:\n",
    "        cost_array_non_violated[i][k] = np.matmul(c.T,x_temp)\n",
    "      \n"
   ]
  },
  {
   "cell_type": "code",
   "execution_count": null,
   "metadata": {},
   "outputs": [
    {
     "name": "stdout",
     "output_type": "stream",
     "text": [
      "Minimum valid cost:  -33.94322461620416\n"
     ]
    }
   ],
   "source": [
    "min_valid_cost = cost_array_non_violated.min()\n",
    "print(\"Minimum valid cost: \",min_valid_cost)"
   ]
  },
  {
   "cell_type": "code",
   "execution_count": null,
   "metadata": {},
   "outputs": [
    {
     "data": {
      "text/plain": [
       "(array([36, 36, 36, 36, 36, 36, 36]), array([64, 65, 66, 67, 68, 69, 70]))"
      ]
     },
     "metadata": {},
     "output_type": "display_data"
    }
   ],
   "source": [
    "index = np.where(cost_array_non_violated == cost_array_non_violated.min())\n",
    "index\n",
    "# Hence multiple points with the same value satisfy the minimum"
   ]
  },
  {
   "cell_type": "code",
   "execution_count": null,
   "metadata": {},
   "outputs": [
    {
     "data": {
      "text/plain": [
       "array([-0.12559138, -0.12559138, -0.12559138, -0.12559138, -0.12559138,\n",
       "       -0.12559138, -0.12559138])"
      ]
     },
     "metadata": {},
     "output_type": "display_data"
    }
   ],
   "source": [
    "const_violation[index]"
   ]
  },
  {
   "cell_type": "code",
   "execution_count": null,
   "metadata": {},
   "outputs": [],
   "source": [
    "# they also have the same constraint violation value as well"
   ]
  },
  {
   "cell_type": "markdown",
   "metadata": {},
   "source": [
    "so the optimal points are t1 = 0.36, t2=[0.64-0.70]"
   ]
  },
  {
   "cell_type": "code",
   "execution_count": null,
   "metadata": {},
   "outputs": [
    {
     "name": "stdout",
     "output_type": "stream",
     "text": [
      "Relative suboptimality percentage is:  1.8690144434418137\n"
     ]
    }
   ],
   "source": [
    "sub_opt = np.abs(min_valid_cost - L) / np.abs(L)*100\n",
    "print(\"Relative suboptimality percentage is: \",sub_opt)"
   ]
  }
 ],
 "metadata": {
  "language_info": {
   "name": "python"
  },
  "orig_nbformat": 4
 },
 "nbformat": 4,
 "nbformat_minor": 2
}
